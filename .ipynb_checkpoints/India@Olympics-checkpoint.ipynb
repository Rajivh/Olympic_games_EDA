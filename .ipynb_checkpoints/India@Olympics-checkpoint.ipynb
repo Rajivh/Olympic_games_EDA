{
 "cells": [
  {
   "cell_type": "markdown",
   "metadata": {},
   "source": [
    "### Analysing Olympics Games data and trying to understand India's performance"
   ]
  },
  {
   "cell_type": "code",
   "execution_count": 462,
   "metadata": {},
   "outputs": [],
   "source": [
    "import numpy as np\n",
    "import pandas as pd\n",
    "import os\n",
    "import re\n",
    "import matplotlib.pyplot as plt"
   ]
  },
  {
   "cell_type": "code",
   "execution_count": 463,
   "metadata": {},
   "outputs": [],
   "source": [
    "os.chdir(\"/Users/anon/GitHubRepos/India_Olympics/Data/\")"
   ]
  },
  {
   "cell_type": "code",
   "execution_count": 464,
   "metadata": {},
   "outputs": [],
   "source": [
    "pd.options.mode.chained_assignment = None  # default='warn'"
   ]
  },
  {
   "cell_type": "markdown",
   "metadata": {},
   "source": [
    "#### Reading the files"
   ]
  },
  {
   "cell_type": "code",
   "execution_count": 465,
   "metadata": {},
   "outputs": [],
   "source": [
    "olympics_data = pd.read_csv(\"athlete_events.csv\")\n",
    "gdp_data = pd.read_csv(\"GDP_data.csv\", skiprows = 4)\n",
    "list_of_countries = pd.read_csv(\"world_countries.csv\")"
   ]
  },
  {
   "cell_type": "code",
   "execution_count": 466,
   "metadata": {},
   "outputs": [],
   "source": [
    "## Dropping the unwanted columns from the list_of_countries dataframe and then converting it to a list\n",
    "list_of_countries.drop(list_of_countries.columns[1:], axis = 1, inplace = True)\n",
    "countries_list = list_of_countries['Country'].tolist()"
   ]
  },
  {
   "cell_type": "code",
   "execution_count": 467,
   "metadata": {},
   "outputs": [],
   "source": [
    "## To remove the trailing whitespaces in the country names\n",
    "countries_list = [country.strip() for country in countries_list]"
   ]
  },
  {
   "cell_type": "code",
   "execution_count": 392,
   "metadata": {},
   "outputs": [
    {
     "data": {
      "text/html": [
       "<div>\n",
       "<style scoped>\n",
       "    .dataframe tbody tr th:only-of-type {\n",
       "        vertical-align: middle;\n",
       "    }\n",
       "\n",
       "    .dataframe tbody tr th {\n",
       "        vertical-align: top;\n",
       "    }\n",
       "\n",
       "    .dataframe thead th {\n",
       "        text-align: right;\n",
       "    }\n",
       "</style>\n",
       "<table border=\"1\" class=\"dataframe\">\n",
       "  <thead>\n",
       "    <tr style=\"text-align: right;\">\n",
       "      <th></th>\n",
       "      <th>Country Name</th>\n",
       "      <th>Country Code</th>\n",
       "      <th>Indicator Name</th>\n",
       "      <th>Indicator Code</th>\n",
       "      <th>1960</th>\n",
       "      <th>1961</th>\n",
       "      <th>1962</th>\n",
       "      <th>1963</th>\n",
       "      <th>1964</th>\n",
       "      <th>1965</th>\n",
       "      <th>...</th>\n",
       "      <th>2009</th>\n",
       "      <th>2010</th>\n",
       "      <th>2011</th>\n",
       "      <th>2012</th>\n",
       "      <th>2013</th>\n",
       "      <th>2014</th>\n",
       "      <th>2015</th>\n",
       "      <th>2016</th>\n",
       "      <th>2017</th>\n",
       "      <th>Unnamed: 62</th>\n",
       "    </tr>\n",
       "  </thead>\n",
       "  <tbody>\n",
       "    <tr>\n",
       "      <th>0</th>\n",
       "      <td>Aruba</td>\n",
       "      <td>ABW</td>\n",
       "      <td>GDP (current US$)</td>\n",
       "      <td>NY.GDP.MKTP.CD</td>\n",
       "      <td>NaN</td>\n",
       "      <td>NaN</td>\n",
       "      <td>NaN</td>\n",
       "      <td>NaN</td>\n",
       "      <td>NaN</td>\n",
       "      <td>NaN</td>\n",
       "      <td>...</td>\n",
       "      <td>2.498933e+09</td>\n",
       "      <td>2.467704e+09</td>\n",
       "      <td>2.584464e+09</td>\n",
       "      <td>NaN</td>\n",
       "      <td>NaN</td>\n",
       "      <td>NaN</td>\n",
       "      <td>NaN</td>\n",
       "      <td>NaN</td>\n",
       "      <td>NaN</td>\n",
       "      <td>NaN</td>\n",
       "    </tr>\n",
       "    <tr>\n",
       "      <th>1</th>\n",
       "      <td>Afghanistan</td>\n",
       "      <td>AFG</td>\n",
       "      <td>GDP (current US$)</td>\n",
       "      <td>NY.GDP.MKTP.CD</td>\n",
       "      <td>5.377778e+08</td>\n",
       "      <td>5.488889e+08</td>\n",
       "      <td>5.466667e+08</td>\n",
       "      <td>7.511112e+08</td>\n",
       "      <td>8.000000e+08</td>\n",
       "      <td>1.006667e+09</td>\n",
       "      <td>...</td>\n",
       "      <td>1.248694e+10</td>\n",
       "      <td>1.593680e+10</td>\n",
       "      <td>1.793024e+10</td>\n",
       "      <td>2.053654e+10</td>\n",
       "      <td>2.026425e+10</td>\n",
       "      <td>2.061610e+10</td>\n",
       "      <td>1.921556e+10</td>\n",
       "      <td>1.946902e+10</td>\n",
       "      <td>2.081530e+10</td>\n",
       "      <td>NaN</td>\n",
       "    </tr>\n",
       "    <tr>\n",
       "      <th>2</th>\n",
       "      <td>Angola</td>\n",
       "      <td>AGO</td>\n",
       "      <td>GDP (current US$)</td>\n",
       "      <td>NY.GDP.MKTP.CD</td>\n",
       "      <td>NaN</td>\n",
       "      <td>NaN</td>\n",
       "      <td>NaN</td>\n",
       "      <td>NaN</td>\n",
       "      <td>NaN</td>\n",
       "      <td>NaN</td>\n",
       "      <td>...</td>\n",
       "      <td>7.549239e+10</td>\n",
       "      <td>8.252614e+10</td>\n",
       "      <td>1.041158e+11</td>\n",
       "      <td>1.139232e+11</td>\n",
       "      <td>1.249125e+11</td>\n",
       "      <td>1.267302e+11</td>\n",
       "      <td>1.026212e+11</td>\n",
       "      <td>9.533720e+10</td>\n",
       "      <td>1.242094e+11</td>\n",
       "      <td>NaN</td>\n",
       "    </tr>\n",
       "  </tbody>\n",
       "</table>\n",
       "<p>3 rows × 63 columns</p>\n",
       "</div>"
      ],
      "text/plain": [
       "  Country Name Country Code     Indicator Name  Indicator Code          1960  \\\n",
       "0        Aruba          ABW  GDP (current US$)  NY.GDP.MKTP.CD           NaN   \n",
       "1  Afghanistan          AFG  GDP (current US$)  NY.GDP.MKTP.CD  5.377778e+08   \n",
       "2       Angola          AGO  GDP (current US$)  NY.GDP.MKTP.CD           NaN   \n",
       "\n",
       "           1961          1962          1963          1964          1965  \\\n",
       "0           NaN           NaN           NaN           NaN           NaN   \n",
       "1  5.488889e+08  5.466667e+08  7.511112e+08  8.000000e+08  1.006667e+09   \n",
       "2           NaN           NaN           NaN           NaN           NaN   \n",
       "\n",
       "      ...               2009          2010          2011          2012  \\\n",
       "0     ...       2.498933e+09  2.467704e+09  2.584464e+09           NaN   \n",
       "1     ...       1.248694e+10  1.593680e+10  1.793024e+10  2.053654e+10   \n",
       "2     ...       7.549239e+10  8.252614e+10  1.041158e+11  1.139232e+11   \n",
       "\n",
       "           2013          2014          2015          2016          2017  \\\n",
       "0           NaN           NaN           NaN           NaN           NaN   \n",
       "1  2.026425e+10  2.061610e+10  1.921556e+10  1.946902e+10  2.081530e+10   \n",
       "2  1.249125e+11  1.267302e+11  1.026212e+11  9.533720e+10  1.242094e+11   \n",
       "\n",
       "   Unnamed: 62  \n",
       "0          NaN  \n",
       "1          NaN  \n",
       "2          NaN  \n",
       "\n",
       "[3 rows x 63 columns]"
      ]
     },
     "execution_count": 392,
     "metadata": {},
     "output_type": "execute_result"
    }
   ],
   "source": [
    "gdp_data.shape\n",
    "gdp_data.head(3)"
   ]
  },
  {
   "cell_type": "code",
   "execution_count": 393,
   "metadata": {},
   "outputs": [
    {
     "data": {
      "text/html": [
       "<div>\n",
       "<style scoped>\n",
       "    .dataframe tbody tr th:only-of-type {\n",
       "        vertical-align: middle;\n",
       "    }\n",
       "\n",
       "    .dataframe tbody tr th {\n",
       "        vertical-align: top;\n",
       "    }\n",
       "\n",
       "    .dataframe thead th {\n",
       "        text-align: right;\n",
       "    }\n",
       "</style>\n",
       "<table border=\"1\" class=\"dataframe\">\n",
       "  <thead>\n",
       "    <tr style=\"text-align: right;\">\n",
       "      <th></th>\n",
       "      <th>ID</th>\n",
       "      <th>Name</th>\n",
       "      <th>Sex</th>\n",
       "      <th>Age</th>\n",
       "      <th>Height</th>\n",
       "      <th>Weight</th>\n",
       "      <th>Team</th>\n",
       "      <th>NOC</th>\n",
       "      <th>Games</th>\n",
       "      <th>Year</th>\n",
       "      <th>Season</th>\n",
       "      <th>City</th>\n",
       "      <th>Sport</th>\n",
       "      <th>Event</th>\n",
       "      <th>Medal</th>\n",
       "    </tr>\n",
       "  </thead>\n",
       "  <tbody>\n",
       "    <tr>\n",
       "      <th>0</th>\n",
       "      <td>1</td>\n",
       "      <td>A Dijiang</td>\n",
       "      <td>M</td>\n",
       "      <td>24.0</td>\n",
       "      <td>180.0</td>\n",
       "      <td>80.0</td>\n",
       "      <td>China</td>\n",
       "      <td>CHN</td>\n",
       "      <td>1992 Summer</td>\n",
       "      <td>1992</td>\n",
       "      <td>Summer</td>\n",
       "      <td>Barcelona</td>\n",
       "      <td>Basketball</td>\n",
       "      <td>Basketball Men's Basketball</td>\n",
       "      <td>NaN</td>\n",
       "    </tr>\n",
       "    <tr>\n",
       "      <th>1</th>\n",
       "      <td>2</td>\n",
       "      <td>A Lamusi</td>\n",
       "      <td>M</td>\n",
       "      <td>23.0</td>\n",
       "      <td>170.0</td>\n",
       "      <td>60.0</td>\n",
       "      <td>China</td>\n",
       "      <td>CHN</td>\n",
       "      <td>2012 Summer</td>\n",
       "      <td>2012</td>\n",
       "      <td>Summer</td>\n",
       "      <td>London</td>\n",
       "      <td>Judo</td>\n",
       "      <td>Judo Men's Extra-Lightweight</td>\n",
       "      <td>NaN</td>\n",
       "    </tr>\n",
       "    <tr>\n",
       "      <th>2</th>\n",
       "      <td>3</td>\n",
       "      <td>Gunnar Nielsen Aaby</td>\n",
       "      <td>M</td>\n",
       "      <td>24.0</td>\n",
       "      <td>NaN</td>\n",
       "      <td>NaN</td>\n",
       "      <td>Denmark</td>\n",
       "      <td>DEN</td>\n",
       "      <td>1920 Summer</td>\n",
       "      <td>1920</td>\n",
       "      <td>Summer</td>\n",
       "      <td>Antwerpen</td>\n",
       "      <td>Football</td>\n",
       "      <td>Football Men's Football</td>\n",
       "      <td>NaN</td>\n",
       "    </tr>\n",
       "  </tbody>\n",
       "</table>\n",
       "</div>"
      ],
      "text/plain": [
       "   ID                 Name Sex   Age  Height  Weight     Team  NOC  \\\n",
       "0   1            A Dijiang   M  24.0   180.0    80.0    China  CHN   \n",
       "1   2             A Lamusi   M  23.0   170.0    60.0    China  CHN   \n",
       "2   3  Gunnar Nielsen Aaby   M  24.0     NaN     NaN  Denmark  DEN   \n",
       "\n",
       "         Games  Year  Season       City       Sport  \\\n",
       "0  1992 Summer  1992  Summer  Barcelona  Basketball   \n",
       "1  2012 Summer  2012  Summer     London        Judo   \n",
       "2  1920 Summer  1920  Summer  Antwerpen    Football   \n",
       "\n",
       "                          Event Medal  \n",
       "0   Basketball Men's Basketball   NaN  \n",
       "1  Judo Men's Extra-Lightweight   NaN  \n",
       "2       Football Men's Football   NaN  "
      ]
     },
     "execution_count": 393,
     "metadata": {},
     "output_type": "execute_result"
    }
   ],
   "source": [
    "olympics_data.shape\n",
    "olympics_data.head(3)"
   ]
  },
  {
   "cell_type": "code",
   "execution_count": 468,
   "metadata": {},
   "outputs": [],
   "source": [
    "## Sorting the Olympics dataframe by year \n",
    "olympics_data.sort_values(by = 'Year', inplace = True)"
   ]
  },
  {
   "cell_type": "code",
   "execution_count": 469,
   "metadata": {},
   "outputs": [
    {
     "data": {
      "text/plain": [
       "231333"
      ]
     },
     "execution_count": 469,
     "metadata": {},
     "output_type": "execute_result"
    }
   ],
   "source": [
    "## Checking the number of rows with Medal column as zero\n",
    "olympics_data['Medal'].isnull().sum(axis=0)"
   ]
  },
  {
   "cell_type": "code",
   "execution_count": 470,
   "metadata": {},
   "outputs": [],
   "source": [
    "## Creating a new df with only the rows with Medal column not zero\n",
    "medal_countries = olympics_data[olympics_data['Medal'].notnull()]\n",
    "\n",
    "## Creating a new df with countries and their number of medals won\n",
    "medal_countries_trim = medal_countries.groupby(['Team'])['Medal'].size().reset_index()"
   ]
  },
  {
   "cell_type": "code",
   "execution_count": 471,
   "metadata": {},
   "outputs": [
    {
     "data": {
      "text/html": [
       "<div>\n",
       "<style scoped>\n",
       "    .dataframe tbody tr th:only-of-type {\n",
       "        vertical-align: middle;\n",
       "    }\n",
       "\n",
       "    .dataframe tbody tr th {\n",
       "        vertical-align: top;\n",
       "    }\n",
       "\n",
       "    .dataframe thead th {\n",
       "        text-align: right;\n",
       "    }\n",
       "</style>\n",
       "<table border=\"1\" class=\"dataframe\">\n",
       "  <thead>\n",
       "    <tr style=\"text-align: right;\">\n",
       "      <th></th>\n",
       "      <th>Team</th>\n",
       "      <th>Medal</th>\n",
       "    </tr>\n",
       "  </thead>\n",
       "  <tbody>\n",
       "    <tr>\n",
       "      <th>0</th>\n",
       "      <td>A North American Team</td>\n",
       "      <td>4</td>\n",
       "    </tr>\n",
       "    <tr>\n",
       "      <th>1</th>\n",
       "      <td>Afghanistan</td>\n",
       "      <td>2</td>\n",
       "    </tr>\n",
       "    <tr>\n",
       "      <th>2</th>\n",
       "      <td>Algeria</td>\n",
       "      <td>17</td>\n",
       "    </tr>\n",
       "  </tbody>\n",
       "</table>\n",
       "</div>"
      ],
      "text/plain": [
       "                    Team  Medal\n",
       "0  A North American Team      4\n",
       "1            Afghanistan      2\n",
       "2                Algeria     17"
      ]
     },
     "execution_count": 471,
     "metadata": {},
     "output_type": "execute_result"
    }
   ],
   "source": [
    "medal_countries_trim.head(3)"
   ]
  },
  {
   "cell_type": "markdown",
   "metadata": {},
   "source": [
    "#### just exploring the data - need not be part of the final code"
   ]
  },
  {
   "cell_type": "code",
   "execution_count": 293,
   "metadata": {},
   "outputs": [
    {
     "data": {
      "text/html": [
       "<div>\n",
       "<style scoped>\n",
       "    .dataframe tbody tr th:only-of-type {\n",
       "        vertical-align: middle;\n",
       "    }\n",
       "\n",
       "    .dataframe tbody tr th {\n",
       "        vertical-align: top;\n",
       "    }\n",
       "\n",
       "    .dataframe thead th {\n",
       "        text-align: right;\n",
       "    }\n",
       "</style>\n",
       "<table border=\"1\" class=\"dataframe\">\n",
       "  <thead>\n",
       "    <tr style=\"text-align: right;\">\n",
       "      <th></th>\n",
       "      <th>Team</th>\n",
       "      <th>Medal</th>\n",
       "    </tr>\n",
       "  </thead>\n",
       "  <tbody>\n",
       "    <tr>\n",
       "      <th>203</th>\n",
       "      <td>India</td>\n",
       "      <td>197</td>\n",
       "    </tr>\n",
       "  </tbody>\n",
       "</table>\n",
       "</div>"
      ],
      "text/plain": [
       "      Team  Medal\n",
       "203  India    197"
      ]
     },
     "execution_count": 293,
     "metadata": {},
     "output_type": "execute_result"
    }
   ],
   "source": [
    "## Looking at countries with the string United in it\n",
    "medal_countries_trim.loc[medal_countries_trim['Team'].str.contains('United')]\n",
    "\n",
    "medal_countries_trim.loc[medal_countries_trim['Team']=='India']\n",
    "\n",
    "\n",
    "## there seems to be some redundant country names - for instance, United States-4"
   ]
  },
  {
   "cell_type": "markdown",
   "metadata": {},
   "source": [
    "#### Focussing on results after 1960"
   ]
  },
  {
   "cell_type": "code",
   "execution_count": 557,
   "metadata": {},
   "outputs": [],
   "source": [
    "## creating a dataframe from year 1960 onwards\n",
    "games_after_1960 = olympics_data.loc[olympics_data['Year']>=1960]\n",
    "##games_after_1960.shape"
   ]
  },
  {
   "cell_type": "code",
   "execution_count": 558,
   "metadata": {},
   "outputs": [
    {
     "data": {
      "text/plain": [
       "array(['Acipactli', 'Afghanistan', 'Akatonbo', 'Alain IV', 'Albania',\n",
       "       'Aldebaran', 'Aldebaran II', 'Aletta', 'Algeria', 'Ali-Baba IX',\n",
       "       'Ali-Baba VI', 'Almaz', 'American Samoa', 'Andorra', 'Andromeda',\n",
       "       'Angola', 'Antigua and Barbuda', 'Aphrodite', 'Ardilla',\n",
       "       'Argentina', 'Argentina-1', 'Argentina-2', 'Argeste', 'Argo II',\n",
       "       'Armenia', 'Aruba', 'Astrid III', 'Australia', 'Australia-1',\n",
       "       'Australia-2', 'Australia-3', 'Austria', 'Austria-1', 'Austria-2',\n",
       "       'Azerbaijan', 'Baccara', 'Bahamas', 'Bahrain', 'Bajazzo',\n",
       "       'Balaton', 'Ballerina IV', 'Bangladesh', 'Barbados',\n",
       "       'Barco Deloro', 'Barrenjoey', 'Beaver', 'Belarus', 'Belarus-1',\n",
       "       'Belarus-2', 'Belgium', 'Belize', 'Bella', 'Bellatrix IX',\n",
       "       'Bellatrix XIII', 'Benin', 'Bermuda', 'Bermudes', 'Bermudian',\n",
       "       'Bhutan', 'Bim', 'Bingo', 'Bolivia', 'Bonaparte', 'Boreas',\n",
       "       'Bosnia and Herzegovina', 'Botswana', 'Brazil', 'Brazil-1',\n",
       "       'Brazil-2', 'Brentina', 'Briar', 'Brigantia',\n",
       "       'British Virgin Islands', 'Bronia', 'Brunei', 'Bulgaria',\n",
       "       'Bulgaria-1', 'Bulgaria-2', 'Buraddoo', 'Burkina Faso', 'Burundi',\n",
       "       'Calcinhas', 'Calimucho', 'Calypse II', 'Cambodia', 'Cambria',\n",
       "       'Cameroon', 'Canada', 'Canada-1', 'Canada-2', 'Canada-3',\n",
       "       'Canopus', 'Cape Verde', 'Cayman Islands',\n",
       "       'Central African Republic', 'Cha-Cha III', 'Chad', 'Chaje II',\n",
       "       'Chamukina', 'Chile', 'China', 'China-1', 'China-2', 'China-3',\n",
       "       'Chinese Taipei', 'Chinese Taipei-1', 'Chinese Taipei-2', 'Chok',\n",
       "       'Ciocca III', 'Circus', 'Clearwater', 'Clementine V', 'Colombia',\n",
       "       'Combine', 'Comoros', 'Congo (Brazzaville)', 'Congo (Kinshasa)',\n",
       "       'Cook Islands', 'Costa Rica', \"Cote d'Ivoire\", 'Croatia', 'Cuba',\n",
       "       'Cuba-1', 'Cuba-2', 'Cyprus', 'Czech Republic', 'Czech Republic-1',\n",
       "       'Czech Republic-2', 'Czechoslovakia', 'Czechoslovakia-1',\n",
       "       'Czechoslovakia-2', 'Czechoslovakia-3', 'Daisy', 'Damoiselle IV',\n",
       "       'Danaldo', 'Denmark', 'Denmark-1', 'Denmark-2', 'Diablo',\n",
       "       'Diabolo St Maurice', 'Digby', 'Dinah V', 'Djibouti', 'Dominica',\n",
       "       'Dominican Republic', 'Don Schufro', 'Dow Jones', 'Druzhba',\n",
       "       'East Germany', 'East Germany-1', 'East Germany-2',\n",
       "       'East Germany-3', 'Ecuador', 'Egypt', 'El Salvador', 'Elvis Va',\n",
       "       'Equatorial Guinea', 'Eritrea', 'Espuma del Mar', 'Estonia',\n",
       "       'Ethiopia', 'Evita VI', 'Falcon VI', 'Faneca', 'Fantasio III',\n",
       "       'Federated States of Micronesia', 'Fiji', 'Finland', 'Firebird II',\n",
       "       'Floresco', 'Fram III', 'France', 'France-1', 'France-2',\n",
       "       'France-3', 'Frip IV', 'Gabbiano', 'Gabon', 'Galejan',\n",
       "       'Galopin De La Font', 'Gambia', 'Gem', 'Gem VII', 'Georgia',\n",
       "       'Germany', 'Germany-1', 'Germany-2', 'Germany-3', 'Ghana',\n",
       "       'Glider', 'Glisten', 'Gran Gesto', 'Great Britain',\n",
       "       'Great Britain-1', 'Great Britain-2', 'Great Britain-3', 'Greece',\n",
       "       'Greece-1', 'Greece-2', 'Greenoaks Dundee', 'Grenada', 'Grifo III',\n",
       "       'Grifo IV', 'Grifone', 'Guam', 'Guanahani', 'Guatemala', 'Guinea',\n",
       "       'Guinea Bissau', 'Guyana', 'GyoshuII', 'Haiti', 'Hakahana',\n",
       "       'Harmony', 'Hayama', 'Honduras', 'Hong Kong', 'Hong Kong-1',\n",
       "       'Hong Kong-2', 'Humbug V', 'Hungary', 'Hungary-1', 'Hungary-2',\n",
       "       'Iceland', 'India', 'India-1', 'India-2',\n",
       "       'Individual Olympic Athletes', 'Indonesia', 'Indonesia-1',\n",
       "       'Indonesia-2', 'Inga-Lill XXXXIII', 'Iran', 'Iraq', 'Ireland',\n",
       "       'Ireland-1', 'Ireland-2', 'Israel', 'Israel-1', 'Israel-2',\n",
       "       'Italy', 'Italy-1', 'Italy-2', 'Italy-3', 'Jamaica', 'Jamaica-1',\n",
       "       'Jamaica-2', 'Japan', 'Japan-1', 'Japan-2', 'Japan-3', 'John B',\n",
       "       'Jordan', 'June Climene', 'Kalayaan', 'Kazakhstan', 'Kenya',\n",
       "       'Kiribati', 'Kosovo', 'Kuling', 'Kuwait', 'Kyrgyzstan', 'Lady C',\n",
       "       'Lancet', 'Laos', 'Lasha', 'Latvia', 'Latvia-1', 'Latvia-2',\n",
       "       'Lebanon', 'Lesotho', 'Lett', 'Liberia', 'Libya', 'Liechtenstein',\n",
       "       'Linglom', 'Lithuania', 'Lucky', 'Lucky Star', 'Luxembourg',\n",
       "       \"Ma'Lindo\", 'Macedonia', 'Macky VI', 'Mad Dog', 'Madagascar',\n",
       "       'Maid of Lebanon', 'Malawi', 'Malaya', 'Malaysia', 'Malaysia-1',\n",
       "       'Malaysia-2', 'Maldives', 'Mali', 'Malta', 'Mari',\n",
       "       'Marshall Islands', 'Maryke', 'Mauritania', 'Mauritius',\n",
       "       'Mauritius-1', 'Mauritius-2', 'May-Be 1960', 'Merope',\n",
       "       'Merope III', 'Meteor', 'Mexico', 'Mexico-1', 'Mexico-2',\n",
       "       'Minotaur', 'Miss Denmark 1964', 'Miss Nippon IV', 'Miss Nippon V',\n",
       "       'Mistral Hojris', 'MitaII', 'Mizar', 'Moldova', 'Monaco',\n",
       "       'Monaco-1', 'Monaco-2', 'Mongolia', 'Monica', 'Montenegro',\n",
       "       'Morocco', 'Mozambique', 'Mutafo', 'Myanmar', 'Mythilus', 'Nadine',\n",
       "       'Namibia', 'Nauru', 'Nausikaa 4', 'Nepal', 'Netherlands',\n",
       "       'Netherlands Antilles', 'Netherlands-1', 'Netherlands-2',\n",
       "       'New Zealand', 'New Zealand-1', 'New Zealand-2', 'Nicaragua',\n",
       "       'Niger', 'Nigeria', 'Nigeria-1', 'Nigeria-2', 'Nirefs',\n",
       "       'Nokaut II', 'North Korea', 'North Korea-1', 'North Korea-2',\n",
       "       'North Yemen', 'Norway', 'Norway-1', 'Norway-2', 'Notavel',\n",
       "       'Oleander II', 'Oleander XII', 'Olen', 'Olimpia', 'Olympion',\n",
       "       'Oman', 'Orion', 'Oxalis', 'Pakaria', 'Pakistan', 'Palau',\n",
       "       'Palestine', 'Panama', 'Pandora', 'Papua New Guinea', 'Paraguay',\n",
       "       'Partenope', 'Pasodoble', 'Patricia', 'Peri', 'Peri II', 'Persey',\n",
       "       'Peru', 'Philippines', 'Phoenix', 'Pigoule', 'Pimm', 'Poland',\n",
       "       'Poland-1', 'Poland-2', 'Poland-3', 'Pop Art', 'Portugal',\n",
       "       'Portugal-1', 'Portugal-2', 'Posillipo III', 'Pousse-Moi Pas VII',\n",
       "       'Proteus II', 'Puerto Rico', 'Puerto Rico-1', 'Puerto Rico-2',\n",
       "       'Qatar', 'Quando Quando', 'Rambo', 'Rampage', 'Ravel',\n",
       "       'Refugee Olympic Athletes', 'Relampago', 'Rhodesia', 'Riccar',\n",
       "       'Rififi', 'Romania', 'Romania-1', 'Romania-2', 'Roy', 'Rush VII',\n",
       "       'Russia', 'Russia-1', 'Russia-2', 'Russia-3', 'Rwanda', 'SagaII',\n",
       "       'Saint Kitts and Nevis', 'Saint Lucia',\n",
       "       'Saint Vincent and the Grenadines', 'Salamander', 'Salinero',\n",
       "       'Samoa', 'San Marino', 'Sao Tome and Principe', 'Satchmo',\n",
       "       'Saudi Arabia', 'Scram', 'Senegal', 'Serbia',\n",
       "       'Serbia and Montenegro', 'Serbia-1', 'Serbia-2', 'Serendipity',\n",
       "       'Seychelles', 'Shrew II', 'Siames-Cat', 'Sierra Leone',\n",
       "       'Singapore', 'Singapore-1', 'Singapore-2', 'Sirene', 'Sjovinge',\n",
       "       'Skum', 'Slovakia', 'Slovakia-1', 'Slovakia-2', 'Slovenia',\n",
       "       'Slovenia-1', 'Slovenia-2', 'Snowten III', 'Solomon Islands',\n",
       "       'Solos Carex', 'Somalia', 'South Africa', 'South Korea',\n",
       "       'South Korea-1', 'South Korea-2', 'South Sudan', 'South Vietnam',\n",
       "       'South Yemen', 'Soviet Union', 'Soviet Union-1', 'Soviet Union-2',\n",
       "       'Soviet Union-3', 'Spain', 'Spain-1', 'Spain-2', 'Spirit VI',\n",
       "       'Squid III', 'Sri Lanka', 'State VI', 'Struten', 'Subbnboana',\n",
       "       'Sudan', 'Sunrise', 'Suriname', 'Surprise', 'Swaziland', 'Sweden',\n",
       "       'Sweden-1', 'Sweden-2', 'Switzerland', 'Switzerland-1',\n",
       "       'Switzerland-2', 'Syndi', 'Syria', 'Taifun', 'Tajamar',\n",
       "       'Tajikistan', 'Tango', 'Tantalus', 'Tanzania', 'Tengiri',\n",
       "       'Terrible', 'Thailand', 'Thailand-1', 'Thailand-2', 'Three Leaves',\n",
       "       'Timor Leste', 'Tlaloc', 'Togo', 'Tonga', 'Tornado',\n",
       "       'Trinidad and Tobago', 'Trintel II', 'Tunisia', 'Turkey',\n",
       "       'Turkmenistan', 'Tuvalu', 'Twinkle', 'Uganda', 'Ukraine',\n",
       "       'Ukraine-1', 'Ukraine-2', 'Umberta V', 'Unified Team',\n",
       "       'Unified Team-1', 'Unified Team-2', 'Unified Team-3',\n",
       "       'United Arab Emirates', 'United Arab Republic', 'United States',\n",
       "       'United States Virgin Islands', 'United States Virgin Islands-1',\n",
       "       'United States Virgin Islands-2', 'United States-1',\n",
       "       'United States-2', 'United States-3', 'Uruguay', 'Uzbekistan',\n",
       "       'Uzbekistan-1', 'Uzbekistan-2', 'Vanuatu', 'Venezuela', 'Venilia',\n",
       "       'Vento Sul', 'Vesania', 'Vietnam', 'Viktoriya', 'Vim III',\n",
       "       'Voloira II', 'Web II', 'Web III', 'West Germany',\n",
       "       'West Germany-1', 'West Germany-2', 'West Germany-3',\n",
       "       'West Indies Federation', 'Whisper', 'White Lady', 'Whitini Star',\n",
       "       'Widgeon', 'Xolotl', 'Yangon', 'Yemen', 'Yeoman VII', 'Yeoman XII',\n",
       "       'Yugoslavia', 'Yugoslavia-1', 'Yugoslavia-2', 'Zambia', 'Zefyros',\n",
       "       'Zimbabwe'], dtype=object)"
      ]
     },
     "execution_count": 558,
     "metadata": {},
     "output_type": "execute_result"
    }
   ],
   "source": [
    "## Just exploring - looking at the values of the country fields\n",
    "country_list = games_after_1960['Team'].unique()\n",
    "np.sort(country_list)"
   ]
  },
  {
   "cell_type": "code",
   "execution_count": 559,
   "metadata": {},
   "outputs": [],
   "source": [
    "countries_list.extend(['Montenegro','Bahamas','Congo (Brazzaville)','Yugoslavia','Refugee Olympic Athletes','Central African Republic','Gambia','Kosovo','Individual Olympic Athletes','Federated States of Micronesia','Guinea Bissau','Palestine','British Virgin Islands','Sao Tome and Principe','South Sudan'])"
   ]
  },
  {
   "cell_type": "code",
   "execution_count": 560,
   "metadata": {},
   "outputs": [],
   "source": [
    "#countries_list"
   ]
  },
  {
   "cell_type": "code",
   "execution_count": 564,
   "metadata": {},
   "outputs": [
    {
     "data": {
      "text/plain": [
       "array(['Beaver', 'Malaya', 'Buraddoo', 'Tango', 'Aldebaran II',\n",
       "       'Ciocca III', 'Inga-Lill XXXXIII', 'Combine', 'May-Be 1960',\n",
       "       'Rhodesia', 'Tengiri', 'Chamukina', 'Cha-Cha III', 'Bronia',\n",
       "       'Evita VI', 'Ali-Baba VI', 'Lett', 'Galejan', 'Surprise',\n",
       "       'Snowten III', 'John B', 'Persey', 'Calypse II', 'Lasha',\n",
       "       'Bajazzo', 'West Indies Federation', 'SagaII', 'Gem VII',\n",
       "       'United Arab Republic', 'Astrid III', 'Patricia', 'Voloira II',\n",
       "       'Viktoriya', 'Macky VI', 'Daisy', 'Spirit VI', 'Peri', 'Pakaria',\n",
       "       'Minotaur', 'Fantasio III', 'Trintel II', 'Three Leaves', 'Rififi',\n",
       "       'Skum', \"Ma'Lindo\", 'Ardilla', 'Siames-Cat', 'Gabbiano', 'Sirene',\n",
       "       'Nirefs', 'Vim III', 'Nokaut II', 'Pasodoble', 'Mizar',\n",
       "       'Ballerina IV', 'Tornado', 'Dinah V', 'Partenope', 'Yeoman VII',\n",
       "       'Maid of Lebanon', 'Tajamar', 'Espuma del Mar', 'Harmony',\n",
       "       'Calcinhas', 'Mad Dog', 'Sjovinge', 'Pimm', 'Falcon VI', 'Struten',\n",
       "       'Salamander', 'Posillipo III', 'Baccara', 'Grifo III', 'Argo II',\n",
       "       'Aletta', 'Bellatrix IX', 'Circus', 'Web II', 'Danaldo', 'Yangon',\n",
       "       'Boreas', 'Scram', 'Bermudian', 'Olimpia', 'Frip IV', 'Merope III',\n",
       "       'Twinkle', 'Merope', 'Canopus', 'Chok', 'Damoiselle IV',\n",
       "       'June Climene', 'Zefyros', 'Shrew II', 'Venilia', 'South Vietnam',\n",
       "       'Hakahana', 'Olympion', 'Bermudes', 'Balaton', 'Meteor', 'Vesania',\n",
       "       'Terrible', 'Bim', 'Oleander II', 'Mari', 'Bella', 'Rush VII',\n",
       "       'Gem', 'Grifo IV', 'Tantalus', 'Ali-Baba IX', 'Pandora',\n",
       "       'Brigantia', 'White Lady', 'Barco Deloro', 'Acipactli',\n",
       "       'Nausikaa 4', 'Chaje II', 'Maryke', 'Xolotl', 'Alain IV',\n",
       "       'Yeoman XII', 'Clementine V', 'Glisten', 'Faneca', 'Oleander XII',\n",
       "       'Miss Nippon IV', 'Pigoule', 'Monica', 'Cambria', 'Umberta V',\n",
       "       'GyoshuII', 'Humbug V', 'Aphrodite', 'Riccar', 'Web III', 'Roy',\n",
       "       'Diablo', 'Kuling', 'Olen', 'Linglom', 'Kalayaan', 'Aldebaran',\n",
       "       'Guanahani', 'Vento Sul', 'Syndi', 'Akatonbo', 'Squid III',\n",
       "       'MitaII', 'Miss Denmark 1964', 'Andromeda', 'Mutafo',\n",
       "       'Pousse-Moi Pas VII', 'Druzhba', 'Rampage', 'Firebird II',\n",
       "       'Glider', 'Argeste', 'Miss Nippon V', 'Proteus II', 'Lucky',\n",
       "       'Peri II', 'State VI', 'Grifone', 'Bellatrix XIII', 'Fram III',\n",
       "       'Barrenjoey', 'Serendipity', 'Bingo', 'Almaz', 'Widgeon',\n",
       "       'Subbnboana', 'Phoenix', 'Lady C', 'Taifun', 'Tlaloc', 'Hayama',\n",
       "       'Congo (Kinshasa)', 'North Yemen', 'South Yemen', 'Unified Team',\n",
       "       'Serbia and Montenegro', 'Timor Leste', 'Mistral Hojris',\n",
       "       'Relampago', 'Orion', 'Rambo', 'Clearwater', 'Floresco',\n",
       "       'Solos Carex', 'Mythilus', 'Greenoaks Dundee', 'Satchmo',\n",
       "       'Pop Art', 'Salinero', 'Briar', 'Lucky Star', 'Quando Quando',\n",
       "       'Gran Gesto', 'Sunrise', 'Elvis Va', 'Whitini Star', 'Calimucho',\n",
       "       'Nadine', 'Brentina', 'Diabolo St Maurice', 'Galopin De La Font',\n",
       "       'Oxalis', 'Dow Jones', 'Notavel', 'Lancet', 'Ravel', 'Bonaparte',\n",
       "       'Don Schufro', 'Digby', 'Whisper'], dtype=object)"
      ]
     },
     "execution_count": 564,
     "metadata": {},
     "output_type": "execute_result"
    }
   ],
   "source": [
    "## Checking the names of the countries which are in the Olympics dataframe but not in the countries list\n",
    "games_after_1960.loc[~games_after_1960['Team'].isin(countries_list),'Team'].unique()\n",
    "#games_after_1960['Team'].isin(list_of_countries['Country'])"
   ]
  },
  {
   "cell_type": "code",
   "execution_count": 403,
   "metadata": {},
   "outputs": [
    {
     "data": {
      "text/plain": [
       "True"
      ]
     },
     "execution_count": 403,
     "metadata": {},
     "output_type": "execute_result"
    }
   ],
   "source": [
    "#'Czech Republic' in countries_list"
   ]
  },
  {
   "cell_type": "code",
   "execution_count": 561,
   "metadata": {},
   "outputs": [],
   "source": [
    "## There are a lot valid entries - just a mismatch due to the different possible names for the country. For instance\n",
    "## Great Britain and United Kingdom are same. So replacing all the Olympic dataframe entries to match with the \n",
    "## countries list\n",
    "\n",
    "games_after_1960['Team'] = games_after_1960['Team'].str.replace(\"Great Britain\", \"United Kingdom\")\n",
    "games_after_1960['Team'] = games_after_1960['Team'].str.replace(\"Soviet Union\", \"Russia\")\n",
    "games_after_1960['Team'] = games_after_1960['Team'].str.replace(\"South Korea\", \"Korea, South\")\n",
    "games_after_1960['Team'] = games_after_1960['Team'].str.replace(\"North Korea\", \"Korea, North\")\n",
    "games_after_1960['Team'] = games_after_1960['Team'].str.replace(\"Chinese Taipei\", \"Taiwan\")"
   ]
  },
  {
   "cell_type": "code",
   "execution_count": 562,
   "metadata": {},
   "outputs": [],
   "source": [
    "games_after_1960['Team'] = games_after_1960['Team'].str.replace(\"Trinidad and Tobago\", \"Trinidad & Tobago\")\n",
    "games_after_1960['Team'] = games_after_1960['Team'].str.replace(\"Czechoslovakia\", \"Czech Republic\")\n",
    "games_after_1960['Team'] = games_after_1960['Team'].str.replace(\"Antigua and Barbuda\", \"Antigua & Barbuda\")\n",
    "games_after_1960['Team'] = games_after_1960['Team'].str.replace(\"United States Virgin Islands\", \"United States\")\n",
    "games_after_1960['Team'] = games_after_1960['Team'].str.replace(\"Myanmar\", \"Burma\")\n",
    "#games_after_1960['Team'] = games_after_1960['Team'].str.replace(\"Bahamas\", \"Bahamas, The\")\n",
    "games_after_1960['Team'] = games_after_1960['Team'].str.replace(\"Bosnia and Herzegovina\", \"Bosnia & Herzegovina\")\n",
    "games_after_1960['Team'] = games_after_1960['Team'].str.replace(\"Saint Kitts and Nevis\", \"Saint Kitts & Nevis\")\n",
    "games_after_1960['Team'] = games_after_1960['Team'].str.replace(\"East Germany\", \"Germany\")\n",
    "games_after_1960['Team'] = games_after_1960['Team'].str.replace(\"West Germany\", \"Germany\")"
   ]
  },
  {
   "cell_type": "code",
   "execution_count": 563,
   "metadata": {},
   "outputs": [],
   "source": [
    "## This is for the redundant entries where a number follows the country name. For instance, United States-1\n",
    "pattern = r'-\\d+'\n",
    "games_after_1960['Team'] = games_after_1960['Team'].str.replace(pattern, \"\", regex = True)"
   ]
  },
  {
   "cell_type": "code",
   "execution_count": 565,
   "metadata": {},
   "outputs": [],
   "source": [
    "### Now the remaining entries which are in Olympics but not in the countries list are named as others\n",
    "games_after_1960.loc[~games_after_1960['Team'].isin(countries_list),'Team']='Others'"
   ]
  },
  {
   "cell_type": "code",
   "execution_count": 566,
   "metadata": {},
   "outputs": [],
   "source": [
    "medals_after_1960 = games_after_1960[games_after_1960['Medal'].notnull()]"
   ]
  },
  {
   "cell_type": "code",
   "execution_count": 567,
   "metadata": {},
   "outputs": [
    {
     "data": {
      "text/plain": [
       "(28400, 15)"
      ]
     },
     "execution_count": 567,
     "metadata": {},
     "output_type": "execute_result"
    }
   ],
   "source": [
    "medals_after_1960.shape"
   ]
  },
  {
   "cell_type": "code",
   "execution_count": 568,
   "metadata": {},
   "outputs": [],
   "source": [
    "## Removing the rows corresponding to winter games\n",
    "medals_after_1960.drop(medals_after_1960[medals_after_1960['Games'].str.contains('Winter')].index, inplace = True)"
   ]
  },
  {
   "cell_type": "code",
   "execution_count": 569,
   "metadata": {},
   "outputs": [
    {
     "data": {
      "text/plain": [
       "(23545, 15)"
      ]
     },
     "execution_count": 569,
     "metadata": {},
     "output_type": "execute_result"
    }
   ],
   "source": [
    "medals_after_1960.shape"
   ]
  },
  {
   "cell_type": "markdown",
   "metadata": {},
   "source": [
    "### Lets do some Visualization"
   ]
  },
  {
   "cell_type": "code",
   "execution_count": null,
   "metadata": {},
   "outputs": [],
   "source": []
  },
  {
   "cell_type": "code",
   "execution_count": 570,
   "metadata": {},
   "outputs": [],
   "source": [
    "## This will account for team events getting multiple medals. By taking the unique color of the medal for an event, \n",
    "## tackle this issue\n",
    "medal_list = medals_after_1960.groupby(['Year','Team','Event'])['Medal'].nunique().reset_index()"
   ]
  },
  {
   "cell_type": "code",
   "execution_count": 571,
   "metadata": {},
   "outputs": [],
   "source": [
    "## Testing for United States for a particular event and it turns out fine. The multiple values for an event for \n",
    "## a team in a year happens only when multiple colors are won\n",
    "\n",
    "#medals_after_1960.loc[(medals_after_1960['Team']=='United States')&(medals_after_1960['Event']==\"Athletics Men's 110 metres Hurdles\")&(medals_after_1960['Year']==1960)]"
   ]
  },
  {
   "cell_type": "code",
   "execution_count": 572,
   "metadata": {},
   "outputs": [],
   "source": [
    "## Now finding the total count of medals won by a country in a year (considering team event mmedsals as one medal)\n",
    "## this can be done by finding the count of the medals in a year for a team - can go group by\n",
    "medal_list_year_total = medal_list.groupby(['Year','Team']).sum().reset_index()"
   ]
  },
  {
   "cell_type": "code",
   "execution_count": 622,
   "metadata": {},
   "outputs": [
    {
     "data": {
      "text/html": [
       "<div>\n",
       "<style scoped>\n",
       "    .dataframe tbody tr th:only-of-type {\n",
       "        vertical-align: middle;\n",
       "    }\n",
       "\n",
       "    .dataframe tbody tr th {\n",
       "        vertical-align: top;\n",
       "    }\n",
       "\n",
       "    .dataframe thead th {\n",
       "        text-align: right;\n",
       "    }\n",
       "</style>\n",
       "<table border=\"1\" class=\"dataframe\">\n",
       "  <thead>\n",
       "    <tr style=\"text-align: right;\">\n",
       "      <th></th>\n",
       "      <th>Year</th>\n",
       "      <th>Team</th>\n",
       "      <th>Medal</th>\n",
       "    </tr>\n",
       "  </thead>\n",
       "  <tbody>\n",
       "    <tr>\n",
       "      <th>15</th>\n",
       "      <td>1960</td>\n",
       "      <td>India</td>\n",
       "      <td>1</td>\n",
       "    </tr>\n",
       "    <tr>\n",
       "      <th>55</th>\n",
       "      <td>1964</td>\n",
       "      <td>India</td>\n",
       "      <td>1</td>\n",
       "    </tr>\n",
       "    <tr>\n",
       "      <th>98</th>\n",
       "      <td>1968</td>\n",
       "      <td>India</td>\n",
       "      <td>1</td>\n",
       "    </tr>\n",
       "    <tr>\n",
       "      <th>142</th>\n",
       "      <td>1972</td>\n",
       "      <td>India</td>\n",
       "      <td>1</td>\n",
       "    </tr>\n",
       "    <tr>\n",
       "      <th>226</th>\n",
       "      <td>1980</td>\n",
       "      <td>India</td>\n",
       "      <td>1</td>\n",
       "    </tr>\n",
       "    <tr>\n",
       "      <th>436</th>\n",
       "      <td>1996</td>\n",
       "      <td>India</td>\n",
       "      <td>1</td>\n",
       "    </tr>\n",
       "    <tr>\n",
       "      <th>518</th>\n",
       "      <td>2000</td>\n",
       "      <td>India</td>\n",
       "      <td>1</td>\n",
       "    </tr>\n",
       "    <tr>\n",
       "      <th>597</th>\n",
       "      <td>2004</td>\n",
       "      <td>India</td>\n",
       "      <td>1</td>\n",
       "    </tr>\n",
       "    <tr>\n",
       "      <th>674</th>\n",
       "      <td>2008</td>\n",
       "      <td>India</td>\n",
       "      <td>3</td>\n",
       "    </tr>\n",
       "    <tr>\n",
       "      <th>763</th>\n",
       "      <td>2012</td>\n",
       "      <td>India</td>\n",
       "      <td>6</td>\n",
       "    </tr>\n",
       "    <tr>\n",
       "      <th>846</th>\n",
       "      <td>2016</td>\n",
       "      <td>India</td>\n",
       "      <td>2</td>\n",
       "    </tr>\n",
       "  </tbody>\n",
       "</table>\n",
       "</div>"
      ],
      "text/plain": [
       "     Year   Team  Medal\n",
       "15   1960  India      1\n",
       "55   1964  India      1\n",
       "98   1968  India      1\n",
       "142  1972  India      1\n",
       "226  1980  India      1\n",
       "436  1996  India      1\n",
       "518  2000  India      1\n",
       "597  2004  India      1\n",
       "674  2008  India      3\n",
       "763  2012  India      6\n",
       "846  2016  India      2"
      ]
     },
     "execution_count": 622,
     "metadata": {},
     "output_type": "execute_result"
    }
   ],
   "source": [
    "medal_list_year_total[medal_list_year_total['Team']=='India']"
   ]
  },
  {
   "cell_type": "code",
   "execution_count": 577,
   "metadata": {},
   "outputs": [],
   "source": [
    "medal_list_total = medal_list_year_total.groupby(['Team'])['Medal'].sum().reset_index()"
   ]
  },
  {
   "cell_type": "code",
   "execution_count": 578,
   "metadata": {},
   "outputs": [],
   "source": [
    "medal_list_total.sort_values(by = 'Medal', inplace = True, ascending = False)"
   ]
  },
  {
   "cell_type": "code",
   "execution_count": 580,
   "metadata": {},
   "outputs": [
    {
     "data": {
      "text/html": [
       "<div>\n",
       "<style scoped>\n",
       "    .dataframe tbody tr th:only-of-type {\n",
       "        vertical-align: middle;\n",
       "    }\n",
       "\n",
       "    .dataframe tbody tr th {\n",
       "        vertical-align: top;\n",
       "    }\n",
       "\n",
       "    .dataframe thead th {\n",
       "        text-align: right;\n",
       "    }\n",
       "</style>\n",
       "<table border=\"1\" class=\"dataframe\">\n",
       "  <thead>\n",
       "    <tr style=\"text-align: right;\">\n",
       "      <th></th>\n",
       "      <th>Team</th>\n",
       "      <th>Medal</th>\n",
       "    </tr>\n",
       "  </thead>\n",
       "  <tbody>\n",
       "    <tr>\n",
       "      <th>126</th>\n",
       "      <td>United States</td>\n",
       "      <td>1453</td>\n",
       "    </tr>\n",
       "    <tr>\n",
       "      <th>98</th>\n",
       "      <td>Russia</td>\n",
       "      <td>1288</td>\n",
       "    </tr>\n",
       "    <tr>\n",
       "      <th>41</th>\n",
       "      <td>Germany</td>\n",
       "      <td>1081</td>\n",
       "    </tr>\n",
       "  </tbody>\n",
       "</table>\n",
       "</div>"
      ],
      "text/plain": [
       "              Team  Medal\n",
       "126  United States   1453\n",
       "98          Russia   1288\n",
       "41         Germany   1081"
      ]
     },
     "execution_count": 580,
     "metadata": {},
     "output_type": "execute_result"
    }
   ],
   "source": [
    "medal_list_total.head(3)"
   ]
  },
  {
   "cell_type": "code",
   "execution_count": 585,
   "metadata": {},
   "outputs": [],
   "source": [
    "medal_list_total['proportion'] = round(medal_list_total['Medal']*100/(sum(medal_list_total['Medal'])),2)"
   ]
  },
  {
   "cell_type": "code",
   "execution_count": 587,
   "metadata": {},
   "outputs": [],
   "source": [
    "medal_list_total['cumsum'] = medal_list_total['proportion'].cumsum()"
   ]
  },
  {
   "cell_type": "code",
   "execution_count": 595,
   "metadata": {},
   "outputs": [],
   "source": [
    "medal_list_total.reset_index(drop = True,inplace = True)"
   ]
  },
  {
   "cell_type": "code",
   "execution_count": 621,
   "metadata": {},
   "outputs": [
    {
     "data": {
      "text/html": [
       "<div>\n",
       "<style scoped>\n",
       "    .dataframe tbody tr th:only-of-type {\n",
       "        vertical-align: middle;\n",
       "    }\n",
       "\n",
       "    .dataframe tbody tr th {\n",
       "        vertical-align: top;\n",
       "    }\n",
       "\n",
       "    .dataframe thead th {\n",
       "        text-align: right;\n",
       "    }\n",
       "</style>\n",
       "<table border=\"1\" class=\"dataframe\">\n",
       "  <thead>\n",
       "    <tr style=\"text-align: right;\">\n",
       "      <th></th>\n",
       "      <th>Team</th>\n",
       "      <th>Medal</th>\n",
       "      <th>proportion</th>\n",
       "      <th>cumsum</th>\n",
       "    </tr>\n",
       "  </thead>\n",
       "  <tbody>\n",
       "    <tr>\n",
       "      <th>58</th>\n",
       "      <td>India</td>\n",
       "      <td>19</td>\n",
       "      <td>0.17</td>\n",
       "      <td>96.84</td>\n",
       "    </tr>\n",
       "  </tbody>\n",
       "</table>\n",
       "</div>"
      ],
      "text/plain": [
       "     Team  Medal  proportion  cumsum\n",
       "58  India     19        0.17   96.84"
      ]
     },
     "execution_count": 621,
     "metadata": {},
     "output_type": "execute_result"
    }
   ],
   "source": [
    "medal_list_total[medal_list_total['Team']=='India']\n",
    "## First revelation was that India is at a not so bad 58th position among 134 countries (there could be many more \n",
    "## countries categorized under the Others entry which might push up or down India's position - but may be not much).\n",
    "## I was always under the impression that India would be at the bottom of the table - indicates that your perceptions\n",
    "## weighed down by expectations can cloud reality."
   ]
  },
  {
   "cell_type": "code",
   "execution_count": 603,
   "metadata": {},
   "outputs": [],
   "source": [
    "## The top 20% countries in the medals table have won ~85% of the total medals given. Once again confirms \n",
    "##Pareto's rule\n",
    "\n",
    "top_countries = medal_list_total.iloc[0:int(medal_list_total.shape[0]*.2),]"
   ]
  },
  {
   "cell_type": "code",
   "execution_count": 611,
   "metadata": {},
   "outputs": [],
   "source": [
    "top_20 = int(medal_list_total.shape[0]*.2)\n",
    "top_20_cumsum = round(medal_list_total.loc[top_20,'cumsum'],2)"
   ]
  },
  {
   "cell_type": "code",
   "execution_count": 613,
   "metadata": {},
   "outputs": [
    {
     "data": {
      "text/plain": [
       "84.56"
      ]
     },
     "execution_count": 613,
     "metadata": {},
     "output_type": "execute_result"
    }
   ],
   "source": [
    "top_20_cumsum"
   ]
  },
  {
   "cell_type": "code",
   "execution_count": 614,
   "metadata": {},
   "outputs": [
    {
     "data": {
      "image/png": "[encoded data removed]",
      "text/plain": [
       "<Figure size 432x288 with 1 Axes>"
      ]
     },
     "metadata": {},
     "output_type": "display_data"
    }
   ],
   "source": [
    "labels = 'Top 20%', 'Remaining 80%'\n",
    "sizes = [top_20_cumsum, 100 - top_20_cumsum]\n",
    "explode = (0.1,  0)  \n",
    "\n",
    "fig1, ax1 = plt.subplots()\n",
    "ax1.pie(sizes, explode=explode, labels=labels, autopct='%1.1f%%', shadow=True, startangle=90)\n",
    "ax1.axis('equal')  # Equal aspect ratio ensures that pie is drawn as a circle.\n",
    "\n",
    "ax1.set(aspect=\"equal\", title='Distribution of Medals won by Top 20% and Remaining 80% countries')\n",
    "plt.show()"
   ]
  },
  {
   "cell_type": "code",
   "execution_count": null,
   "metadata": {},
   "outputs": [],
   "source": []
  },
  {
   "cell_type": "code",
   "execution_count": 637,
   "metadata": {},
   "outputs": [
    {
     "data": {
      "image/png": "[encoded data removed]",
      "text/plain": [
       "<Figure size 648x792 with 1 Axes>"
      ]
     },
     "metadata": {
      "needs_background": "light"
     },
     "output_type": "display_data"
    }
   ],
   "source": [
    "fig2, ax2 = plt.subplots()\n",
    "fig2.set_size_inches(9,11)\n",
    "fig2.gca().invert_yaxis()\n",
    "\n",
    "ax2.barh(medal_list_total.iloc[:top_20,0], medal_list_total.iloc[:top_20,1])\n",
    "ax2.set_xlabel(\"Number of medals won\")\n",
    "ax2.set_ylabel(\"Countries\")\n",
    "ax2.set_title(\"Distribution of medals won by countries\")\n",
    "plt.show()"
   ]
  },
  {
   "cell_type": "markdown",
   "metadata": {},
   "source": [
    "### Gap between the top three and the rest\n",
    "There is a pretty sharp drop from the third placed nation and the rest. In fact, I was a little surprised that China was a distant fourth despite their recent strong performances. Then a little bit of research revealed that, after the 1952 summer olympics, China again started representing only from the 1984 Olympics. Considering that they were absent for around 7 editions in between - it is a phenomenal performance by the Chinese to be at the fourth position."
   ]
  },
  {
   "cell_type": "code",
   "execution_count": null,
   "metadata": {},
   "outputs": [],
   "source": []
  },
  {
   "cell_type": "code",
   "execution_count": 660,
   "metadata": {},
   "outputs": [],
   "source": [
    "india_medals_trend = pd.DataFrame({'Year' : medal_list_year_total['Year'].unique()})"
   ]
  },
  {
   "cell_type": "code",
   "execution_count": 674,
   "metadata": {},
   "outputs": [],
   "source": [
    "#pd.merge(india_medals_trend, medal_list_year_total.loc[medal_list_year_total['Team']=='India',['Year','Medal']], on = 'Year', how = 'left')\n",
    "\n",
    "india_medal_trend = pd.merge(india_medals_trend, medal_list_year_total.loc[medal_list_year_total['Team']=='India',['Year','Medal']], on = 'Year', how = 'left')\n",
    "india_medal_trend.fillna(0, inplace = True)\n",
    "india_medal_trend['Medal'] = india_medal_trend['Medal'].astype(int)"
   ]
  },
  {
   "cell_type": "code",
   "execution_count": 682,
   "metadata": {},
   "outputs": [
    {
     "data": {
      "image/png": "[encoded data removed]",
      "text/plain": [
       "<Figure size 576x360 with 1 Axes>"
      ]
     },
     "metadata": {
      "needs_background": "light"
     },
     "output_type": "display_data"
    }
   ],
   "source": [
    "\n",
    "fig3, ax3 = plt.subplots()\n",
    "fig3.set_size_inches(8,5)\n",
    "ax3.plot(india_medal_trend['Year'], india_medal_trend['Medal'])\n",
    "ax3.set_xlabel('Years')\n",
    "ax3.set_ylabel('Medals won')\n",
    "ax3.set_title(\"India's Medal trend\")\n",
    "ax3.set_xticks(india_medal_trend['Year'])\n",
    "plt.xticks(rotation=45)\n",
    "\n",
    "plt.show()"
   ]
  },
  {
   "cell_type": "markdown",
   "metadata": {},
   "source": [
    "### India's performance\n",
    "So it turns out that India's position in the overall medals table has largely been due to its performance in the 2012 edition when she won 6 medals."
   ]
  },
  {
   "cell_type": "code",
   "execution_count": 716,
   "metadata": {},
   "outputs": [],
   "source": [
    "medal_range_countries = medal_list_year_total.groupby(['Team'])['Medal'].agg(['min','max']).reset_index()"
   ]
  },
  {
   "cell_type": "code",
   "execution_count": 717,
   "metadata": {},
   "outputs": [],
   "source": [
    "medal_range_countries['range'] = medal_range_countries['max']-medal_range_countries['min']"
   ]
  },
  {
   "cell_type": "code",
   "execution_count": 718,
   "metadata": {},
   "outputs": [],
   "source": [
    "medal_range_countries['pc_increase'] = round((medal_range_countries['range']*100)/(medal_range_countries['min']),2)"
   ]
  },
  {
   "cell_type": "code",
   "execution_count": 719,
   "metadata": {},
   "outputs": [],
   "source": [
    "medal_range_countries.sort_values(by = 'pc_increase', ascending = False, inplace = True)"
   ]
  },
  {
   "cell_type": "code",
   "execution_count": 722,
   "metadata": {},
   "outputs": [],
   "source": [
    "medal_range_countries.drop(medal_range_countries[medal_range_countries['Team']=='Others'].index,inplace = True)"
   ]
  },
  {
   "cell_type": "code",
   "execution_count": 733,
   "metadata": {},
   "outputs": [],
   "source": [
    "medal_range_countries.loc[(medal_range_countries['range']>=30)]\n",
    "high_range_countries = medal_range_countries.loc[(medal_range_countries['range']>=30)&(medal_range_countries['pc_increase']>300),'Team'].tolist()"
   ]
  },
  {
   "cell_type": "code",
   "execution_count": null,
   "metadata": {},
   "outputs": [],
   "source": []
  },
  {
   "cell_type": "code",
   "execution_count": null,
   "metadata": {},
   "outputs": [],
   "source": [
    "high_range_countries_trend = pd.DataFrame({'Year' : medal_list_year_total['Year'].unique()})\n",
    "\n",
    "high_range_countries_trend = pd.merge(high_range_countries_trend, medal_list_year_total.loc[medal_list_year_total['Team']=='India',['Year','Medal']], on = 'Year', how = 'left')\n",
    "india_medal_trend.fillna(0, inplace = True)\n",
    "india_medal_trend['Medal'] = india_medal_trend['Medal'].astype(int)"
   ]
  },
  {
   "cell_type": "code",
   "execution_count": 740,
   "metadata": {},
   "outputs": [],
   "source": [
    "\n",
    "high_range_countries_trend = medal_list_year_total.loc[medal_list_year_total['Team'].isin(high_range_countries)]\n"
   ]
  },
  {
   "cell_type": "code",
   "execution_count": 743,
   "metadata": {},
   "outputs": [
    {
     "data": {
      "text/html": [
       "<div>\n",
       "<style scoped>\n",
       "    .dataframe tbody tr th:only-of-type {\n",
       "        vertical-align: middle;\n",
       "    }\n",
       "\n",
       "    .dataframe tbody tr th {\n",
       "        vertical-align: top;\n",
       "    }\n",
       "\n",
       "    .dataframe thead th {\n",
       "        text-align: right;\n",
       "    }\n",
       "</style>\n",
       "<table border=\"1\" class=\"dataframe\">\n",
       "  <thead>\n",
       "    <tr style=\"text-align: right;\">\n",
       "      <th>Team</th>\n",
       "      <th>Australia</th>\n",
       "      <th>Bulgaria</th>\n",
       "      <th>Canada</th>\n",
       "      <th>Cuba</th>\n",
       "      <th>France</th>\n",
       "      <th>Korea, South</th>\n",
       "      <th>Romania</th>\n",
       "      <th>United Kingdom</th>\n",
       "    </tr>\n",
       "    <tr>\n",
       "      <th>Year</th>\n",
       "      <th></th>\n",
       "      <th></th>\n",
       "      <th></th>\n",
       "      <th></th>\n",
       "      <th></th>\n",
       "      <th></th>\n",
       "      <th></th>\n",
       "      <th></th>\n",
       "    </tr>\n",
       "  </thead>\n",
       "  <tbody>\n",
       "    <tr>\n",
       "      <th>1960</th>\n",
       "      <td>22</td>\n",
       "      <td>7</td>\n",
       "      <td>1</td>\n",
       "      <td>0</td>\n",
       "      <td>5</td>\n",
       "      <td>0</td>\n",
       "      <td>10</td>\n",
       "      <td>20</td>\n",
       "    </tr>\n",
       "    <tr>\n",
       "      <th>1964</th>\n",
       "      <td>17</td>\n",
       "      <td>10</td>\n",
       "      <td>4</td>\n",
       "      <td>1</td>\n",
       "      <td>15</td>\n",
       "      <td>3</td>\n",
       "      <td>12</td>\n",
       "      <td>17</td>\n",
       "    </tr>\n",
       "    <tr>\n",
       "      <th>1968</th>\n",
       "      <td>17</td>\n",
       "      <td>9</td>\n",
       "      <td>5</td>\n",
       "      <td>4</td>\n",
       "      <td>15</td>\n",
       "      <td>2</td>\n",
       "      <td>15</td>\n",
       "      <td>13</td>\n",
       "    </tr>\n",
       "    <tr>\n",
       "      <th>1972</th>\n",
       "      <td>17</td>\n",
       "      <td>21</td>\n",
       "      <td>5</td>\n",
       "      <td>8</td>\n",
       "      <td>13</td>\n",
       "      <td>1</td>\n",
       "      <td>16</td>\n",
       "      <td>18</td>\n",
       "    </tr>\n",
       "    <tr>\n",
       "      <th>1976</th>\n",
       "      <td>5</td>\n",
       "      <td>22</td>\n",
       "      <td>11</td>\n",
       "      <td>13</td>\n",
       "      <td>9</td>\n",
       "      <td>6</td>\n",
       "      <td>27</td>\n",
       "      <td>13</td>\n",
       "    </tr>\n",
       "    <tr>\n",
       "      <th>1980</th>\n",
       "      <td>9</td>\n",
       "      <td>41</td>\n",
       "      <td>0</td>\n",
       "      <td>20</td>\n",
       "      <td>14</td>\n",
       "      <td>0</td>\n",
       "      <td>25</td>\n",
       "      <td>21</td>\n",
       "    </tr>\n",
       "    <tr>\n",
       "      <th>1984</th>\n",
       "      <td>24</td>\n",
       "      <td>0</td>\n",
       "      <td>44</td>\n",
       "      <td>0</td>\n",
       "      <td>28</td>\n",
       "      <td>19</td>\n",
       "      <td>52</td>\n",
       "      <td>37</td>\n",
       "    </tr>\n",
       "    <tr>\n",
       "      <th>1988</th>\n",
       "      <td>14</td>\n",
       "      <td>35</td>\n",
       "      <td>10</td>\n",
       "      <td>0</td>\n",
       "      <td>16</td>\n",
       "      <td>33</td>\n",
       "      <td>24</td>\n",
       "      <td>24</td>\n",
       "    </tr>\n",
       "    <tr>\n",
       "      <th>1992</th>\n",
       "      <td>27</td>\n",
       "      <td>16</td>\n",
       "      <td>18</td>\n",
       "      <td>31</td>\n",
       "      <td>29</td>\n",
       "      <td>28</td>\n",
       "      <td>18</td>\n",
       "      <td>20</td>\n",
       "    </tr>\n",
       "    <tr>\n",
       "      <th>1996</th>\n",
       "      <td>41</td>\n",
       "      <td>15</td>\n",
       "      <td>22</td>\n",
       "      <td>25</td>\n",
       "      <td>37</td>\n",
       "      <td>27</td>\n",
       "      <td>19</td>\n",
       "      <td>15</td>\n",
       "    </tr>\n",
       "    <tr>\n",
       "      <th>2000</th>\n",
       "      <td>58</td>\n",
       "      <td>13</td>\n",
       "      <td>14</td>\n",
       "      <td>29</td>\n",
       "      <td>38</td>\n",
       "      <td>28</td>\n",
       "      <td>26</td>\n",
       "      <td>28</td>\n",
       "    </tr>\n",
       "    <tr>\n",
       "      <th>2004</th>\n",
       "      <td>50</td>\n",
       "      <td>12</td>\n",
       "      <td>12</td>\n",
       "      <td>27</td>\n",
       "      <td>33</td>\n",
       "      <td>30</td>\n",
       "      <td>19</td>\n",
       "      <td>30</td>\n",
       "    </tr>\n",
       "    <tr>\n",
       "      <th>2008</th>\n",
       "      <td>46</td>\n",
       "      <td>5</td>\n",
       "      <td>19</td>\n",
       "      <td>24</td>\n",
       "      <td>41</td>\n",
       "      <td>31</td>\n",
       "      <td>8</td>\n",
       "      <td>48</td>\n",
       "    </tr>\n",
       "    <tr>\n",
       "      <th>2012</th>\n",
       "      <td>35</td>\n",
       "      <td>2</td>\n",
       "      <td>18</td>\n",
       "      <td>14</td>\n",
       "      <td>35</td>\n",
       "      <td>28</td>\n",
       "      <td>9</td>\n",
       "      <td>65</td>\n",
       "    </tr>\n",
       "    <tr>\n",
       "      <th>2016</th>\n",
       "      <td>29</td>\n",
       "      <td>3</td>\n",
       "      <td>22</td>\n",
       "      <td>11</td>\n",
       "      <td>42</td>\n",
       "      <td>21</td>\n",
       "      <td>4</td>\n",
       "      <td>67</td>\n",
       "    </tr>\n",
       "  </tbody>\n",
       "</table>\n",
       "</div>"
      ],
      "text/plain": [
       "Team  Australia  Bulgaria  Canada  Cuba  France  Korea, South  Romania  \\\n",
       "Year                                                                     \n",
       "1960         22         7       1     0       5             0       10   \n",
       "1964         17        10       4     1      15             3       12   \n",
       "1968         17         9       5     4      15             2       15   \n",
       "1972         17        21       5     8      13             1       16   \n",
       "1976          5        22      11    13       9             6       27   \n",
       "1980          9        41       0    20      14             0       25   \n",
       "1984         24         0      44     0      28            19       52   \n",
       "1988         14        35      10     0      16            33       24   \n",
       "1992         27        16      18    31      29            28       18   \n",
       "1996         41        15      22    25      37            27       19   \n",
       "2000         58        13      14    29      38            28       26   \n",
       "2004         50        12      12    27      33            30       19   \n",
       "2008         46         5      19    24      41            31        8   \n",
       "2012         35         2      18    14      35            28        9   \n",
       "2016         29         3      22    11      42            21        4   \n",
       "\n",
       "Team  United Kingdom  \n",
       "Year                  \n",
       "1960              20  \n",
       "1964              17  \n",
       "1968              13  \n",
       "1972              18  \n",
       "1976              13  \n",
       "1980              21  \n",
       "1984              37  \n",
       "1988              24  \n",
       "1992              20  \n",
       "1996              15  \n",
       "2000              28  \n",
       "2004              30  \n",
       "2008              48  \n",
       "2012              65  \n",
       "2016              67  "
      ]
     },
     "execution_count": 743,
     "metadata": {},
     "output_type": "execute_result"
    }
   ],
   "source": [
    "high_range_countries_trend.pivot_table(index = 'Year', columns = 'Team', values = 'Medal', fill_value = 0)"
   ]
  },
  {
   "cell_type": "code",
   "execution_count": 730,
   "metadata": {},
   "outputs": [
    {
     "data": {
      "image/png": "[encoded data removed]",
      "text/plain": [
       "<Figure size 432x288 with 421 Axes>"
      ]
     },
     "metadata": {
      "needs_background": "light"
     },
     "output_type": "display_data"
    }
   ],
   "source": [
    "fig, ax = plt.subplots(421)\n",
    "ax.set\n",
    "plt.show()"
   ]
  },
  {
   "cell_type": "code",
   "execution_count": 709,
   "metadata": {},
   "outputs": [
    {
     "data": {
      "text/html": [
       "<div>\n",
       "<style scoped>\n",
       "    .dataframe tbody tr th:only-of-type {\n",
       "        vertical-align: middle;\n",
       "    }\n",
       "\n",
       "    .dataframe tbody tr th {\n",
       "        vertical-align: top;\n",
       "    }\n",
       "\n",
       "    .dataframe thead th {\n",
       "        text-align: right;\n",
       "    }\n",
       "</style>\n",
       "<table border=\"1\" class=\"dataframe\">\n",
       "  <thead>\n",
       "    <tr style=\"text-align: right;\">\n",
       "      <th></th>\n",
       "      <th>Year</th>\n",
       "      <th>Team</th>\n",
       "      <th>Medal</th>\n",
       "    </tr>\n",
       "  </thead>\n",
       "  <tbody>\n",
       "    <tr>\n",
       "      <th>1</th>\n",
       "      <td>1960</td>\n",
       "      <td>Australia</td>\n",
       "      <td>22</td>\n",
       "    </tr>\n",
       "    <tr>\n",
       "      <th>41</th>\n",
       "      <td>1964</td>\n",
       "      <td>Australia</td>\n",
       "      <td>17</td>\n",
       "    </tr>\n",
       "    <tr>\n",
       "      <th>82</th>\n",
       "      <td>1968</td>\n",
       "      <td>Australia</td>\n",
       "      <td>17</td>\n",
       "    </tr>\n",
       "    <tr>\n",
       "      <th>125</th>\n",
       "      <td>1972</td>\n",
       "      <td>Australia</td>\n",
       "      <td>17</td>\n",
       "    </tr>\n",
       "    <tr>\n",
       "      <th>171</th>\n",
       "      <td>1976</td>\n",
       "      <td>Australia</td>\n",
       "      <td>5</td>\n",
       "    </tr>\n",
       "    <tr>\n",
       "      <th>211</th>\n",
       "      <td>1980</td>\n",
       "      <td>Australia</td>\n",
       "      <td>9</td>\n",
       "    </tr>\n",
       "    <tr>\n",
       "      <th>248</th>\n",
       "      <td>1984</td>\n",
       "      <td>Australia</td>\n",
       "      <td>24</td>\n",
       "    </tr>\n",
       "    <tr>\n",
       "      <th>295</th>\n",
       "      <td>1988</td>\n",
       "      <td>Australia</td>\n",
       "      <td>14</td>\n",
       "    </tr>\n",
       "    <tr>\n",
       "      <th>346</th>\n",
       "      <td>1992</td>\n",
       "      <td>Australia</td>\n",
       "      <td>27</td>\n",
       "    </tr>\n",
       "    <tr>\n",
       "      <th>411</th>\n",
       "      <td>1996</td>\n",
       "      <td>Australia</td>\n",
       "      <td>41</td>\n",
       "    </tr>\n",
       "    <tr>\n",
       "      <th>490</th>\n",
       "      <td>2000</td>\n",
       "      <td>Australia</td>\n",
       "      <td>58</td>\n",
       "    </tr>\n",
       "    <tr>\n",
       "      <th>568</th>\n",
       "      <td>2004</td>\n",
       "      <td>Australia</td>\n",
       "      <td>50</td>\n",
       "    </tr>\n",
       "    <tr>\n",
       "      <th>645</th>\n",
       "      <td>2008</td>\n",
       "      <td>Australia</td>\n",
       "      <td>46</td>\n",
       "    </tr>\n",
       "    <tr>\n",
       "      <th>732</th>\n",
       "      <td>2012</td>\n",
       "      <td>Australia</td>\n",
       "      <td>35</td>\n",
       "    </tr>\n",
       "    <tr>\n",
       "      <th>816</th>\n",
       "      <td>2016</td>\n",
       "      <td>Australia</td>\n",
       "      <td>29</td>\n",
       "    </tr>\n",
       "  </tbody>\n",
       "</table>\n",
       "</div>"
      ],
      "text/plain": [
       "     Year       Team  Medal\n",
       "1    1960  Australia     22\n",
       "41   1964  Australia     17\n",
       "82   1968  Australia     17\n",
       "125  1972  Australia     17\n",
       "171  1976  Australia      5\n",
       "211  1980  Australia      9\n",
       "248  1984  Australia     24\n",
       "295  1988  Australia     14\n",
       "346  1992  Australia     27\n",
       "411  1996  Australia     41\n",
       "490  2000  Australia     58\n",
       "568  2004  Australia     50\n",
       "645  2008  Australia     46\n",
       "732  2012  Australia     35\n",
       "816  2016  Australia     29"
      ]
     },
     "execution_count": 709,
     "metadata": {},
     "output_type": "execute_result"
    }
   ],
   "source": [
    "medal_list_year_total[medal_list_year_total['Team']=='Australia']"
   ]
  },
  {
   "cell_type": "code",
   "execution_count": null,
   "metadata": {},
   "outputs": [],
   "source": []
  }
 ],
 "metadata": {
  "kernelspec": {
   "display_name": "Python 3",
   "language": "python",
   "name": "python3"
  },
  "language_info": {
   "codemirror_mode": {
    "name": "ipython",
    "version": 3
   },
   "file_extension": ".py",
   "mimetype": "text/x-python",
   "name": "python",
   "nbconvert_exporter": "python",
   "pygments_lexer": "ipython3",
   "version": "3.7.1"
  }
 },
 "nbformat": 4,
 "nbformat_minor": 2
}
