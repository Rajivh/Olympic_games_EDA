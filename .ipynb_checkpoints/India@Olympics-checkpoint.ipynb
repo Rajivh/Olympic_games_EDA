{
 "cells": [
  {
   "cell_type": "code",
   "execution_count": 462,
   "metadata": {},
   "outputs": [],
   "source": [
    "import numpy as np\n",
    "import pandas as pd\n",
    "import os\n",
    "import re\n",
    "import matplotlib.pyplot as plt"
   ]
  },
  {
   "cell_type": "code",
   "execution_count": 463,
   "metadata": {},
   "outputs": [],
   "source": [
    "os.chdir(\"/Users/anon/GitHubRepos/India_Olympics/Data/\")"
   ]
  },
  {
   "cell_type": "code",
   "execution_count": 464,
   "metadata": {},
   "outputs": [],
   "source": [
    "pd.options.mode.chained_assignment = None  # default='warn'"
   ]
  },
  {
   "cell_type": "markdown",
   "metadata": {},
   "source": [
    "#### Reading the files"
   ]
  },
  {
   "cell_type": "code",
   "execution_count": 465,
   "metadata": {},
   "outputs": [],
   "source": [
    "olympics_data = pd.read_csv(\"athlete_events.csv\")\n",
    "gdp_data = pd.read_csv(\"GDP_data.csv\", skiprows = 4)\n",
    "list_of_countries = pd.read_csv(\"world_countries.csv\")"
   ]
  },
  {
   "cell_type": "code",
   "execution_count": 466,
   "metadata": {},
   "outputs": [],
   "source": [
    "## Dropping the unwanted columns from the list_of_countries dataframe and then converting it to a list\n",
    "list_of_countries.drop(list_of_countries.columns[1:], axis = 1, inplace = True)\n",
    "countries_list = list_of_countries['Country'].tolist()"
   ]
  },
  {
   "cell_type": "code",
   "execution_count": 467,
   "metadata": {},
   "outputs": [],
   "source": [
    "## To remove the trailing whitespaces in the country names\n",
    "countries_list = [country.strip() for country in countries_list]"
   ]
  },
  {
   "cell_type": "code",
   "execution_count": 392,
   "metadata": {},
   "outputs": [
    {
     "data": {
      "text/html": [
       "<div>\n",
       "<style scoped>\n",
       "    .dataframe tbody tr th:only-of-type {\n",
       "        vertical-align: middle;\n",
       "    }\n",
       "\n",
       "    .dataframe tbody tr th {\n",
       "        vertical-align: top;\n",
       "    }\n",
       "\n",
       "    .dataframe thead th {\n",
       "        text-align: right;\n",
       "    }\n",
       "</style>\n",
       "<table border=\"1\" class=\"dataframe\">\n",
       "  <thead>\n",
       "    <tr style=\"text-align: right;\">\n",
       "      <th></th>\n",
       "      <th>Country Name</th>\n",
       "      <th>Country Code</th>\n",
       "      <th>Indicator Name</th>\n",
       "      <th>Indicator Code</th>\n",
       "      <th>1960</th>\n",
       "      <th>1961</th>\n",
       "      <th>1962</th>\n",
       "      <th>1963</th>\n",
       "      <th>1964</th>\n",
       "      <th>1965</th>\n",
       "      <th>...</th>\n",
       "      <th>2009</th>\n",
       "      <th>2010</th>\n",
       "      <th>2011</th>\n",
       "      <th>2012</th>\n",
       "      <th>2013</th>\n",
       "      <th>2014</th>\n",
       "      <th>2015</th>\n",
       "      <th>2016</th>\n",
       "      <th>2017</th>\n",
       "      <th>Unnamed: 62</th>\n",
       "    </tr>\n",
       "  </thead>\n",
       "  <tbody>\n",
       "    <tr>\n",
       "      <th>0</th>\n",
       "      <td>Aruba</td>\n",
       "      <td>ABW</td>\n",
       "      <td>GDP (current US$)</td>\n",
       "      <td>NY.GDP.MKTP.CD</td>\n",
       "      <td>NaN</td>\n",
       "      <td>NaN</td>\n",
       "      <td>NaN</td>\n",
       "      <td>NaN</td>\n",
       "      <td>NaN</td>\n",
       "      <td>NaN</td>\n",
       "      <td>...</td>\n",
       "      <td>2.498933e+09</td>\n",
       "      <td>2.467704e+09</td>\n",
       "      <td>2.584464e+09</td>\n",
       "      <td>NaN</td>\n",
       "      <td>NaN</td>\n",
       "      <td>NaN</td>\n",
       "      <td>NaN</td>\n",
       "      <td>NaN</td>\n",
       "      <td>NaN</td>\n",
       "      <td>NaN</td>\n",
       "    </tr>\n",
       "    <tr>\n",
       "      <th>1</th>\n",
       "      <td>Afghanistan</td>\n",
       "      <td>AFG</td>\n",
       "      <td>GDP (current US$)</td>\n",
       "      <td>NY.GDP.MKTP.CD</td>\n",
       "      <td>5.377778e+08</td>\n",
       "      <td>5.488889e+08</td>\n",
       "      <td>5.466667e+08</td>\n",
       "      <td>7.511112e+08</td>\n",
       "      <td>8.000000e+08</td>\n",
       "      <td>1.006667e+09</td>\n",
       "      <td>...</td>\n",
       "      <td>1.248694e+10</td>\n",
       "      <td>1.593680e+10</td>\n",
       "      <td>1.793024e+10</td>\n",
       "      <td>2.053654e+10</td>\n",
       "      <td>2.026425e+10</td>\n",
       "      <td>2.061610e+10</td>\n",
       "      <td>1.921556e+10</td>\n",
       "      <td>1.946902e+10</td>\n",
       "      <td>2.081530e+10</td>\n",
       "      <td>NaN</td>\n",
       "    </tr>\n",
       "    <tr>\n",
       "      <th>2</th>\n",
       "      <td>Angola</td>\n",
       "      <td>AGO</td>\n",
       "      <td>GDP (current US$)</td>\n",
       "      <td>NY.GDP.MKTP.CD</td>\n",
       "      <td>NaN</td>\n",
       "      <td>NaN</td>\n",
       "      <td>NaN</td>\n",
       "      <td>NaN</td>\n",
       "      <td>NaN</td>\n",
       "      <td>NaN</td>\n",
       "      <td>...</td>\n",
       "      <td>7.549239e+10</td>\n",
       "      <td>8.252614e+10</td>\n",
       "      <td>1.041158e+11</td>\n",
       "      <td>1.139232e+11</td>\n",
       "      <td>1.249125e+11</td>\n",
       "      <td>1.267302e+11</td>\n",
       "      <td>1.026212e+11</td>\n",
       "      <td>9.533720e+10</td>\n",
       "      <td>1.242094e+11</td>\n",
       "      <td>NaN</td>\n",
       "    </tr>\n",
       "  </tbody>\n",
       "</table>\n",
       "<p>3 rows × 63 columns</p>\n",
       "</div>"
      ],
      "text/plain": [
       "  Country Name Country Code     Indicator Name  Indicator Code          1960  \\\n",
       "0        Aruba          ABW  GDP (current US$)  NY.GDP.MKTP.CD           NaN   \n",
       "1  Afghanistan          AFG  GDP (current US$)  NY.GDP.MKTP.CD  5.377778e+08   \n",
       "2       Angola          AGO  GDP (current US$)  NY.GDP.MKTP.CD           NaN   \n",
       "\n",
       "           1961          1962          1963          1964          1965  \\\n",
       "0           NaN           NaN           NaN           NaN           NaN   \n",
       "1  5.488889e+08  5.466667e+08  7.511112e+08  8.000000e+08  1.006667e+09   \n",
       "2           NaN           NaN           NaN           NaN           NaN   \n",
       "\n",
       "      ...               2009          2010          2011          2012  \\\n",
       "0     ...       2.498933e+09  2.467704e+09  2.584464e+09           NaN   \n",
       "1     ...       1.248694e+10  1.593680e+10  1.793024e+10  2.053654e+10   \n",
       "2     ...       7.549239e+10  8.252614e+10  1.041158e+11  1.139232e+11   \n",
       "\n",
       "           2013          2014          2015          2016          2017  \\\n",
       "0           NaN           NaN           NaN           NaN           NaN   \n",
       "1  2.026425e+10  2.061610e+10  1.921556e+10  1.946902e+10  2.081530e+10   \n",
       "2  1.249125e+11  1.267302e+11  1.026212e+11  9.533720e+10  1.242094e+11   \n",
       "\n",
       "   Unnamed: 62  \n",
       "0          NaN  \n",
       "1          NaN  \n",
       "2          NaN  \n",
       "\n",
       "[3 rows x 63 columns]"
      ]
     },
     "execution_count": 392,
     "metadata": {},
     "output_type": "execute_result"
    }
   ],
   "source": [
    "gdp_data.shape\n",
    "gdp_data.head(3)"
   ]
  },
  {
   "cell_type": "code",
   "execution_count": 393,
   "metadata": {},
   "outputs": [
    {
     "data": {
      "text/html": [
       "<div>\n",
       "<style scoped>\n",
       "    .dataframe tbody tr th:only-of-type {\n",
       "        vertical-align: middle;\n",
       "    }\n",
       "\n",
       "    .dataframe tbody tr th {\n",
       "        vertical-align: top;\n",
       "    }\n",
       "\n",
       "    .dataframe thead th {\n",
       "        text-align: right;\n",
       "    }\n",
       "</style>\n",
       "<table border=\"1\" class=\"dataframe\">\n",
       "  <thead>\n",
       "    <tr style=\"text-align: right;\">\n",
       "      <th></th>\n",
       "      <th>ID</th>\n",
       "      <th>Name</th>\n",
       "      <th>Sex</th>\n",
       "      <th>Age</th>\n",
       "      <th>Height</th>\n",
       "      <th>Weight</th>\n",
       "      <th>Team</th>\n",
       "      <th>NOC</th>\n",
       "      <th>Games</th>\n",
       "      <th>Year</th>\n",
       "      <th>Season</th>\n",
       "      <th>City</th>\n",
       "      <th>Sport</th>\n",
       "      <th>Event</th>\n",
       "      <th>Medal</th>\n",
       "    </tr>\n",
       "  </thead>\n",
       "  <tbody>\n",
       "    <tr>\n",
       "      <th>0</th>\n",
       "      <td>1</td>\n",
       "      <td>A Dijiang</td>\n",
       "      <td>M</td>\n",
       "      <td>24.0</td>\n",
       "      <td>180.0</td>\n",
       "      <td>80.0</td>\n",
       "      <td>China</td>\n",
       "      <td>CHN</td>\n",
       "      <td>1992 Summer</td>\n",
       "      <td>1992</td>\n",
       "      <td>Summer</td>\n",
       "      <td>Barcelona</td>\n",
       "      <td>Basketball</td>\n",
       "      <td>Basketball Men's Basketball</td>\n",
       "      <td>NaN</td>\n",
       "    </tr>\n",
       "    <tr>\n",
       "      <th>1</th>\n",
       "      <td>2</td>\n",
       "      <td>A Lamusi</td>\n",
       "      <td>M</td>\n",
       "      <td>23.0</td>\n",
       "      <td>170.0</td>\n",
       "      <td>60.0</td>\n",
       "      <td>China</td>\n",
       "      <td>CHN</td>\n",
       "      <td>2012 Summer</td>\n",
       "      <td>2012</td>\n",
       "      <td>Summer</td>\n",
       "      <td>London</td>\n",
       "      <td>Judo</td>\n",
       "      <td>Judo Men's Extra-Lightweight</td>\n",
       "      <td>NaN</td>\n",
       "    </tr>\n",
       "    <tr>\n",
       "      <th>2</th>\n",
       "      <td>3</td>\n",
       "      <td>Gunnar Nielsen Aaby</td>\n",
       "      <td>M</td>\n",
       "      <td>24.0</td>\n",
       "      <td>NaN</td>\n",
       "      <td>NaN</td>\n",
       "      <td>Denmark</td>\n",
       "      <td>DEN</td>\n",
       "      <td>1920 Summer</td>\n",
       "      <td>1920</td>\n",
       "      <td>Summer</td>\n",
       "      <td>Antwerpen</td>\n",
       "      <td>Football</td>\n",
       "      <td>Football Men's Football</td>\n",
       "      <td>NaN</td>\n",
       "    </tr>\n",
       "  </tbody>\n",
       "</table>\n",
       "</div>"
      ],
      "text/plain": [
       "   ID                 Name Sex   Age  Height  Weight     Team  NOC  \\\n",
       "0   1            A Dijiang   M  24.0   180.0    80.0    China  CHN   \n",
       "1   2             A Lamusi   M  23.0   170.0    60.0    China  CHN   \n",
       "2   3  Gunnar Nielsen Aaby   M  24.0     NaN     NaN  Denmark  DEN   \n",
       "\n",
       "         Games  Year  Season       City       Sport  \\\n",
       "0  1992 Summer  1992  Summer  Barcelona  Basketball   \n",
       "1  2012 Summer  2012  Summer     London        Judo   \n",
       "2  1920 Summer  1920  Summer  Antwerpen    Football   \n",
       "\n",
       "                          Event Medal  \n",
       "0   Basketball Men's Basketball   NaN  \n",
       "1  Judo Men's Extra-Lightweight   NaN  \n",
       "2       Football Men's Football   NaN  "
      ]
     },
     "execution_count": 393,
     "metadata": {},
     "output_type": "execute_result"
    }
   ],
   "source": [
    "olympics_data.shape\n",
    "olympics_data.head(3)"
   ]
  },
  {
   "cell_type": "code",
   "execution_count": 468,
   "metadata": {},
   "outputs": [],
   "source": [
    "## Sorting the Olympics dataframe by year \n",
    "olympics_data.sort_values(by = 'Year', inplace = True)"
   ]
  },
  {
   "cell_type": "code",
   "execution_count": 469,
   "metadata": {},
   "outputs": [
    {
     "data": {
      "text/plain": [
       "231333"
      ]
     },
     "execution_count": 469,
     "metadata": {},
     "output_type": "execute_result"
    }
   ],
   "source": [
    "## Checking the number of rows with Medal column as zero\n",
    "olympics_data['Medal'].isnull().sum(axis=0)"
   ]
  },
  {
   "cell_type": "code",
   "execution_count": 470,
   "metadata": {},
   "outputs": [],
   "source": [
    "## Creating a new df with only the rows with Medal column not zero\n",
    "medal_countries = olympics_data[olympics_data['Medal'].notnull()]\n",
    "\n",
    "## Creating a new df with countries and their number of medals won\n",
    "medal_countries_trim = medal_countries.groupby(['Team'])['Medal'].size().reset_index()"
   ]
  },
  {
   "cell_type": "code",
   "execution_count": 471,
   "metadata": {},
   "outputs": [
    {
     "data": {
      "text/html": [
       "<div>\n",
       "<style scoped>\n",
       "    .dataframe tbody tr th:only-of-type {\n",
       "        vertical-align: middle;\n",
       "    }\n",
       "\n",
       "    .dataframe tbody tr th {\n",
       "        vertical-align: top;\n",
       "    }\n",
       "\n",
       "    .dataframe thead th {\n",
       "        text-align: right;\n",
       "    }\n",
       "</style>\n",
       "<table border=\"1\" class=\"dataframe\">\n",
       "  <thead>\n",
       "    <tr style=\"text-align: right;\">\n",
       "      <th></th>\n",
       "      <th>Team</th>\n",
       "      <th>Medal</th>\n",
       "    </tr>\n",
       "  </thead>\n",
       "  <tbody>\n",
       "    <tr>\n",
       "      <th>0</th>\n",
       "      <td>A North American Team</td>\n",
       "      <td>4</td>\n",
       "    </tr>\n",
       "    <tr>\n",
       "      <th>1</th>\n",
       "      <td>Afghanistan</td>\n",
       "      <td>2</td>\n",
       "    </tr>\n",
       "    <tr>\n",
       "      <th>2</th>\n",
       "      <td>Algeria</td>\n",
       "      <td>17</td>\n",
       "    </tr>\n",
       "  </tbody>\n",
       "</table>\n",
       "</div>"
      ],
      "text/plain": [
       "                    Team  Medal\n",
       "0  A North American Team      4\n",
       "1            Afghanistan      2\n",
       "2                Algeria     17"
      ]
     },
     "execution_count": 471,
     "metadata": {},
     "output_type": "execute_result"
    }
   ],
   "source": [
    "medal_countries_trim.head(3)"
   ]
  },
  {
   "cell_type": "markdown",
   "metadata": {},
   "source": [
    "#### just exploring the data - need not be part of the final code"
   ]
  },
  {
   "cell_type": "code",
   "execution_count": 293,
   "metadata": {},
   "outputs": [
    {
     "data": {
      "text/html": [
       "<div>\n",
       "<style scoped>\n",
       "    .dataframe tbody tr th:only-of-type {\n",
       "        vertical-align: middle;\n",
       "    }\n",
       "\n",
       "    .dataframe tbody tr th {\n",
       "        vertical-align: top;\n",
       "    }\n",
       "\n",
       "    .dataframe thead th {\n",
       "        text-align: right;\n",
       "    }\n",
       "</style>\n",
       "<table border=\"1\" class=\"dataframe\">\n",
       "  <thead>\n",
       "    <tr style=\"text-align: right;\">\n",
       "      <th></th>\n",
       "      <th>Team</th>\n",
       "      <th>Medal</th>\n",
       "    </tr>\n",
       "  </thead>\n",
       "  <tbody>\n",
       "    <tr>\n",
       "      <th>203</th>\n",
       "      <td>India</td>\n",
       "      <td>197</td>\n",
       "    </tr>\n",
       "  </tbody>\n",
       "</table>\n",
       "</div>"
      ],
      "text/plain": [
       "      Team  Medal\n",
       "203  India    197"
      ]
     },
     "execution_count": 293,
     "metadata": {},
     "output_type": "execute_result"
    }
   ],
   "source": [
    "## Looking at countries with the string United in it\n",
    "medal_countries_trim.loc[medal_countries_trim['Team'].str.contains('United')]\n",
    "\n",
    "medal_countries_trim.loc[medal_countries_trim['Team']=='India']\n",
    "\n",
    "\n",
    "## there seems to be some redundant country names - for instance, United States-4"
   ]
  },
  {
   "cell_type": "markdown",
   "metadata": {},
   "source": [
    "#### Focussing on results after 1960"
   ]
  },
  {
   "cell_type": "code",
   "execution_count": 504,
   "metadata": {},
   "outputs": [],
   "source": [
    "## creating a dataframe from year 1960 onwards\n",
    "games_after_1960 = olympics_data.loc[olympics_data['Year']>=1960]\n",
    "##games_after_1960.shape"
   ]
  },
  {
   "cell_type": "code",
   "execution_count": 505,
   "metadata": {},
   "outputs": [
    {
     "data": {
      "text/plain": [
       "array(['Acipactli', 'Afghanistan', 'Akatonbo', 'Alain IV', 'Albania',\n",
       "       'Aldebaran', 'Aldebaran II', 'Aletta', 'Algeria', 'Ali-Baba IX',\n",
       "       'Ali-Baba VI', 'Almaz', 'American Samoa', 'Andorra', 'Andromeda',\n",
       "       'Angola', 'Antigua and Barbuda', 'Aphrodite', 'Ardilla',\n",
       "       'Argentina', 'Argentina-1', 'Argentina-2', 'Argeste', 'Argo II',\n",
       "       'Armenia', 'Aruba', 'Astrid III', 'Australia', 'Australia-1',\n",
       "       'Australia-2', 'Australia-3', 'Austria', 'Austria-1', 'Austria-2',\n",
       "       'Azerbaijan', 'Baccara', 'Bahamas', 'Bahrain', 'Bajazzo',\n",
       "       'Balaton', 'Ballerina IV', 'Bangladesh', 'Barbados',\n",
       "       'Barco Deloro', 'Barrenjoey', 'Beaver', 'Belarus', 'Belarus-1',\n",
       "       'Belarus-2', 'Belgium', 'Belize', 'Bella', 'Bellatrix IX',\n",
       "       'Bellatrix XIII', 'Benin', 'Bermuda', 'Bermudes', 'Bermudian',\n",
       "       'Bhutan', 'Bim', 'Bingo', 'Bolivia', 'Bonaparte', 'Boreas',\n",
       "       'Bosnia and Herzegovina', 'Botswana', 'Brazil', 'Brazil-1',\n",
       "       'Brazil-2', 'Brentina', 'Briar', 'Brigantia',\n",
       "       'British Virgin Islands', 'Bronia', 'Brunei', 'Bulgaria',\n",
       "       'Bulgaria-1', 'Bulgaria-2', 'Buraddoo', 'Burkina Faso', 'Burundi',\n",
       "       'Calcinhas', 'Calimucho', 'Calypse II', 'Cambodia', 'Cambria',\n",
       "       'Cameroon', 'Canada', 'Canada-1', 'Canada-2', 'Canada-3',\n",
       "       'Canopus', 'Cape Verde', 'Cayman Islands',\n",
       "       'Central African Republic', 'Cha-Cha III', 'Chad', 'Chaje II',\n",
       "       'Chamukina', 'Chile', 'China', 'China-1', 'China-2', 'China-3',\n",
       "       'Chinese Taipei', 'Chinese Taipei-1', 'Chinese Taipei-2', 'Chok',\n",
       "       'Ciocca III', 'Circus', 'Clearwater', 'Clementine V', 'Colombia',\n",
       "       'Combine', 'Comoros', 'Congo (Brazzaville)', 'Congo (Kinshasa)',\n",
       "       'Cook Islands', 'Costa Rica', \"Cote d'Ivoire\", 'Croatia', 'Cuba',\n",
       "       'Cuba-1', 'Cuba-2', 'Cyprus', 'Czech Republic', 'Czech Republic-1',\n",
       "       'Czech Republic-2', 'Czechoslovakia', 'Czechoslovakia-1',\n",
       "       'Czechoslovakia-2', 'Czechoslovakia-3', 'Daisy', 'Damoiselle IV',\n",
       "       'Danaldo', 'Denmark', 'Denmark-1', 'Denmark-2', 'Diablo',\n",
       "       'Diabolo St Maurice', 'Digby', 'Dinah V', 'Djibouti', 'Dominica',\n",
       "       'Dominican Republic', 'Don Schufro', 'Dow Jones', 'Druzhba',\n",
       "       'East Germany', 'East Germany-1', 'East Germany-2',\n",
       "       'East Germany-3', 'Ecuador', 'Egypt', 'El Salvador', 'Elvis Va',\n",
       "       'Equatorial Guinea', 'Eritrea', 'Espuma del Mar', 'Estonia',\n",
       "       'Ethiopia', 'Evita VI', 'Falcon VI', 'Faneca', 'Fantasio III',\n",
       "       'Federated States of Micronesia', 'Fiji', 'Finland', 'Firebird II',\n",
       "       'Floresco', 'Fram III', 'France', 'France-1', 'France-2',\n",
       "       'France-3', 'Frip IV', 'Gabbiano', 'Gabon', 'Galejan',\n",
       "       'Galopin De La Font', 'Gambia', 'Gem', 'Gem VII', 'Georgia',\n",
       "       'Germany', 'Germany-1', 'Germany-2', 'Germany-3', 'Ghana',\n",
       "       'Glider', 'Glisten', 'Gran Gesto', 'Great Britain',\n",
       "       'Great Britain-1', 'Great Britain-2', 'Great Britain-3', 'Greece',\n",
       "       'Greece-1', 'Greece-2', 'Greenoaks Dundee', 'Grenada', 'Grifo III',\n",
       "       'Grifo IV', 'Grifone', 'Guam', 'Guanahani', 'Guatemala', 'Guinea',\n",
       "       'Guinea Bissau', 'Guyana', 'GyoshuII', 'Haiti', 'Hakahana',\n",
       "       'Harmony', 'Hayama', 'Honduras', 'Hong Kong', 'Hong Kong-1',\n",
       "       'Hong Kong-2', 'Humbug V', 'Hungary', 'Hungary-1', 'Hungary-2',\n",
       "       'Iceland', 'India', 'India-1', 'India-2',\n",
       "       'Individual Olympic Athletes', 'Indonesia', 'Indonesia-1',\n",
       "       'Indonesia-2', 'Inga-Lill XXXXIII', 'Iran', 'Iraq', 'Ireland',\n",
       "       'Ireland-1', 'Ireland-2', 'Israel', 'Israel-1', 'Israel-2',\n",
       "       'Italy', 'Italy-1', 'Italy-2', 'Italy-3', 'Jamaica', 'Jamaica-1',\n",
       "       'Jamaica-2', 'Japan', 'Japan-1', 'Japan-2', 'Japan-3', 'John B',\n",
       "       'Jordan', 'June Climene', 'Kalayaan', 'Kazakhstan', 'Kenya',\n",
       "       'Kiribati', 'Kosovo', 'Kuling', 'Kuwait', 'Kyrgyzstan', 'Lady C',\n",
       "       'Lancet', 'Laos', 'Lasha', 'Latvia', 'Latvia-1', 'Latvia-2',\n",
       "       'Lebanon', 'Lesotho', 'Lett', 'Liberia', 'Libya', 'Liechtenstein',\n",
       "       'Linglom', 'Lithuania', 'Lucky', 'Lucky Star', 'Luxembourg',\n",
       "       \"Ma'Lindo\", 'Macedonia', 'Macky VI', 'Mad Dog', 'Madagascar',\n",
       "       'Maid of Lebanon', 'Malawi', 'Malaya', 'Malaysia', 'Malaysia-1',\n",
       "       'Malaysia-2', 'Maldives', 'Mali', 'Malta', 'Mari',\n",
       "       'Marshall Islands', 'Maryke', 'Mauritania', 'Mauritius',\n",
       "       'Mauritius-1', 'Mauritius-2', 'May-Be 1960', 'Merope',\n",
       "       'Merope III', 'Meteor', 'Mexico', 'Mexico-1', 'Mexico-2',\n",
       "       'Minotaur', 'Miss Denmark 1964', 'Miss Nippon IV', 'Miss Nippon V',\n",
       "       'Mistral Hojris', 'MitaII', 'Mizar', 'Moldova', 'Monaco',\n",
       "       'Monaco-1', 'Monaco-2', 'Mongolia', 'Monica', 'Montenegro',\n",
       "       'Morocco', 'Mozambique', 'Mutafo', 'Myanmar', 'Mythilus', 'Nadine',\n",
       "       'Namibia', 'Nauru', 'Nausikaa 4', 'Nepal', 'Netherlands',\n",
       "       'Netherlands Antilles', 'Netherlands-1', 'Netherlands-2',\n",
       "       'New Zealand', 'New Zealand-1', 'New Zealand-2', 'Nicaragua',\n",
       "       'Niger', 'Nigeria', 'Nigeria-1', 'Nigeria-2', 'Nirefs',\n",
       "       'Nokaut II', 'North Korea', 'North Korea-1', 'North Korea-2',\n",
       "       'North Yemen', 'Norway', 'Norway-1', 'Norway-2', 'Notavel',\n",
       "       'Oleander II', 'Oleander XII', 'Olen', 'Olimpia', 'Olympion',\n",
       "       'Oman', 'Orion', 'Oxalis', 'Pakaria', 'Pakistan', 'Palau',\n",
       "       'Palestine', 'Panama', 'Pandora', 'Papua New Guinea', 'Paraguay',\n",
       "       'Partenope', 'Pasodoble', 'Patricia', 'Peri', 'Peri II', 'Persey',\n",
       "       'Peru', 'Philippines', 'Phoenix', 'Pigoule', 'Pimm', 'Poland',\n",
       "       'Poland-1', 'Poland-2', 'Poland-3', 'Pop Art', 'Portugal',\n",
       "       'Portugal-1', 'Portugal-2', 'Posillipo III', 'Pousse-Moi Pas VII',\n",
       "       'Proteus II', 'Puerto Rico', 'Puerto Rico-1', 'Puerto Rico-2',\n",
       "       'Qatar', 'Quando Quando', 'Rambo', 'Rampage', 'Ravel',\n",
       "       'Refugee Olympic Athletes', 'Relampago', 'Rhodesia', 'Riccar',\n",
       "       'Rififi', 'Romania', 'Romania-1', 'Romania-2', 'Roy', 'Rush VII',\n",
       "       'Russia', 'Russia-1', 'Russia-2', 'Russia-3', 'Rwanda', 'SagaII',\n",
       "       'Saint Kitts and Nevis', 'Saint Lucia',\n",
       "       'Saint Vincent and the Grenadines', 'Salamander', 'Salinero',\n",
       "       'Samoa', 'San Marino', 'Sao Tome and Principe', 'Satchmo',\n",
       "       'Saudi Arabia', 'Scram', 'Senegal', 'Serbia',\n",
       "       'Serbia and Montenegro', 'Serbia-1', 'Serbia-2', 'Serendipity',\n",
       "       'Seychelles', 'Shrew II', 'Siames-Cat', 'Sierra Leone',\n",
       "       'Singapore', 'Singapore-1', 'Singapore-2', 'Sirene', 'Sjovinge',\n",
       "       'Skum', 'Slovakia', 'Slovakia-1', 'Slovakia-2', 'Slovenia',\n",
       "       'Slovenia-1', 'Slovenia-2', 'Snowten III', 'Solomon Islands',\n",
       "       'Solos Carex', 'Somalia', 'South Africa', 'South Korea',\n",
       "       'South Korea-1', 'South Korea-2', 'South Sudan', 'South Vietnam',\n",
       "       'South Yemen', 'Soviet Union', 'Soviet Union-1', 'Soviet Union-2',\n",
       "       'Soviet Union-3', 'Spain', 'Spain-1', 'Spain-2', 'Spirit VI',\n",
       "       'Squid III', 'Sri Lanka', 'State VI', 'Struten', 'Subbnboana',\n",
       "       'Sudan', 'Sunrise', 'Suriname', 'Surprise', 'Swaziland', 'Sweden',\n",
       "       'Sweden-1', 'Sweden-2', 'Switzerland', 'Switzerland-1',\n",
       "       'Switzerland-2', 'Syndi', 'Syria', 'Taifun', 'Tajamar',\n",
       "       'Tajikistan', 'Tango', 'Tantalus', 'Tanzania', 'Tengiri',\n",
       "       'Terrible', 'Thailand', 'Thailand-1', 'Thailand-2', 'Three Leaves',\n",
       "       'Timor Leste', 'Tlaloc', 'Togo', 'Tonga', 'Tornado',\n",
       "       'Trinidad and Tobago', 'Trintel II', 'Tunisia', 'Turkey',\n",
       "       'Turkmenistan', 'Tuvalu', 'Twinkle', 'Uganda', 'Ukraine',\n",
       "       'Ukraine-1', 'Ukraine-2', 'Umberta V', 'Unified Team',\n",
       "       'Unified Team-1', 'Unified Team-2', 'Unified Team-3',\n",
       "       'United Arab Emirates', 'United Arab Republic', 'United States',\n",
       "       'United States Virgin Islands', 'United States Virgin Islands-1',\n",
       "       'United States Virgin Islands-2', 'United States-1',\n",
       "       'United States-2', 'United States-3', 'Uruguay', 'Uzbekistan',\n",
       "       'Uzbekistan-1', 'Uzbekistan-2', 'Vanuatu', 'Venezuela', 'Venilia',\n",
       "       'Vento Sul', 'Vesania', 'Vietnam', 'Viktoriya', 'Vim III',\n",
       "       'Voloira II', 'Web II', 'Web III', 'West Germany',\n",
       "       'West Germany-1', 'West Germany-2', 'West Germany-3',\n",
       "       'West Indies Federation', 'Whisper', 'White Lady', 'Whitini Star',\n",
       "       'Widgeon', 'Xolotl', 'Yangon', 'Yemen', 'Yeoman VII', 'Yeoman XII',\n",
       "       'Yugoslavia', 'Yugoslavia-1', 'Yugoslavia-2', 'Zambia', 'Zefyros',\n",
       "       'Zimbabwe'], dtype=object)"
      ]
     },
     "execution_count": 505,
     "metadata": {},
     "output_type": "execute_result"
    }
   ],
   "source": [
    "## Just exploring - looking at the values of the country fields\n",
    "country_list = games_after_1960['Team'].unique()\n",
    "np.sort(country_list)"
   ]
  },
  {
   "cell_type": "code",
   "execution_count": 520,
   "metadata": {},
   "outputs": [],
   "source": [
    "countries_list.extend(['Montenegro','Bahamas','Congo (Brazzaville)','Yugoslavia','Refugee Olympic Athletes','Central African Republic'])"
   ]
  },
  {
   "cell_type": "code",
   "execution_count": 521,
   "metadata": {},
   "outputs": [],
   "source": [
    "#countries_list"
   ]
  },
  {
   "cell_type": "code",
   "execution_count": 522,
   "metadata": {},
   "outputs": [
    {
     "data": {
      "text/plain": [
       "196760                            Beaver\n",
       "4731                              Malaya\n",
       "22035                           Buraddoo\n",
       "4730                              Malaya\n",
       "208456                             Tango\n",
       "35022                       Aldebaran II\n",
       "18314                         Ciocca III\n",
       "18308                         Ciocca III\n",
       "76870                  Inga-Lill XXXXIII\n",
       "193370                           Combine\n",
       "254457                       May-Be 1960\n",
       "249499                          Rhodesia\n",
       "138788                           Tengiri\n",
       "28291                          Chamukina\n",
       "124893                       Cha-Cha III\n",
       "213819                            Bronia\n",
       "107209                            Malaya\n",
       "67841                           Evita VI\n",
       "31193                        Ali-Baba VI\n",
       "6339                                Lett\n",
       "180826                           Galejan\n",
       "122242                          Surprise\n",
       "134422                       Snowten III\n",
       "196729                            John B\n",
       "164750                            Persey\n",
       "82777                         Calypse II\n",
       "221932                             Lasha\n",
       "75984                            Bajazzo\n",
       "177336                            Malaya\n",
       "76398             West Indies Federation\n",
       "                       ...              \n",
       "110281                            Gambia\n",
       "268566                            Kosovo\n",
       "91060             British Virgin Islands\n",
       "188015            British Virgin Islands\n",
       "149526                       South Sudan\n",
       "40237     Federated States of Micronesia\n",
       "128708                  Congo (Kinshasa)\n",
       "127818                            Kosovo\n",
       "194742       Individual Olympic Athletes\n",
       "25195              Sao Tome and Principe\n",
       "139209                     Guinea Bissau\n",
       "31007                      Guinea Bissau\n",
       "33299                        Timor Leste\n",
       "196320                            Kosovo\n",
       "102964                     Guinea Bissau\n",
       "172406                            Gambia\n",
       "136243             Sao Tome and Principe\n",
       "80081                             Kosovo\n",
       "243529             Sao Tome and Principe\n",
       "88418                             Kosovo\n",
       "231994       Individual Olympic Athletes\n",
       "87821        Individual Olympic Athletes\n",
       "15721                             Gambia\n",
       "10918     Federated States of Micronesia\n",
       "147236                  Congo (Kinshasa)\n",
       "105835                            Gambia\n",
       "86767                             Kosovo\n",
       "77425                          Palestine\n",
       "48875     Federated States of Micronesia\n",
       "47942                      Guinea Bissau\n",
       "Name: Team, Length: 8229, dtype: object"
      ]
     },
     "execution_count": 522,
     "metadata": {},
     "output_type": "execute_result"
    }
   ],
   "source": [
    "## Checking the names of the countries which are in the Olympics dataframe but not in the countries list\n",
    "games_after_1960.loc[~games_after_1960['Team'].isin(countries_list),'Team']\n",
    "#games_after_1960['Team'].isin(list_of_countries['Country'])"
   ]
  },
  {
   "cell_type": "code",
   "execution_count": 403,
   "metadata": {},
   "outputs": [
    {
     "data": {
      "text/plain": [
       "True"
      ]
     },
     "execution_count": 403,
     "metadata": {},
     "output_type": "execute_result"
    }
   ],
   "source": [
    "#'Czech Republic' in countries_list"
   ]
  },
  {
   "cell_type": "code",
   "execution_count": 509,
   "metadata": {},
   "outputs": [],
   "source": [
    "## There are a lot valid entries - just a mismatch due to the different possible names for the country. For instance\n",
    "## Great Britain and United Kingdom are same. So replacing all the Olympic dataframe entries to match with the \n",
    "## countries list\n",
    "\n",
    "games_after_1960['Team'] = games_after_1960['Team'].str.replace(\"Great Britain\", \"United Kingdom\")\n",
    "games_after_1960['Team'] = games_after_1960['Team'].str.replace(\"Soviet Union\", \"Russia\")\n",
    "games_after_1960['Team'] = games_after_1960['Team'].str.replace(\"South Korea\", \"Korea, South\")\n",
    "games_after_1960['Team'] = games_after_1960['Team'].str.replace(\"North Korea\", \"Korea, North\")\n",
    "games_after_1960['Team'] = games_after_1960['Team'].str.replace(\"Chinese Taipei\", \"Taiwan\")"
   ]
  },
  {
   "cell_type": "code",
   "execution_count": 510,
   "metadata": {},
   "outputs": [],
   "source": [
    "games_after_1960['Team'] = games_after_1960['Team'].str.replace(\"Trinidad and Tobago\", \"Trinidad & Tobago\")\n",
    "games_after_1960['Team'] = games_after_1960['Team'].str.replace(\"Czechoslovakia\", \"Czech Republic\")\n",
    "games_after_1960['Team'] = games_after_1960['Team'].str.replace(\"Antigua and Barbuda\", \"Antigua & Barbuda\")\n",
    "games_after_1960['Team'] = games_after_1960['Team'].str.replace(\"United States Virgin Islands\", \"United States\")\n",
    "games_after_1960['Team'] = games_after_1960['Team'].str.replace(\"Myanmar\", \"Burma\")\n",
    "#games_after_1960['Team'] = games_after_1960['Team'].str.replace(\"Bahamas\", \"Bahamas, The\")\n",
    "games_after_1960['Team'] = games_after_1960['Team'].str.replace(\"Bosnia and Herzegovina\", \"Bosnia & Herzegovina\")\n",
    "games_after_1960['Team'] = games_after_1960['Team'].str.replace(\"Saint Kitts and Nevis\", \"Saint Kitts & Nevis\")"
   ]
  },
  {
   "cell_type": "code",
   "execution_count": 511,
   "metadata": {},
   "outputs": [],
   "source": [
    "## This is for the redundant entries where a number follows the country name. For instance, United States-1\n",
    "pattern = r'-\\d+'\n",
    "games_after_1960['Team'] = games_after_1960['Team'].str.replace(pattern, \"\", regex = True)"
   ]
  },
  {
   "cell_type": "code",
   "execution_count": 523,
   "metadata": {},
   "outputs": [],
   "source": [
    "### Now the remaining entries which are in Olympics but not in the countries list are named as others\n",
    "games_after_1960.loc[~games_after_1960['Team'].isin(countries_list),'Team']='Others'"
   ]
  },
  {
   "cell_type": "code",
   "execution_count": 524,
   "metadata": {},
   "outputs": [],
   "source": [
    "medals_after_1960 = games_after_1960[games_after_1960['Medal'].notnull()]"
   ]
  },
  {
   "cell_type": "code",
   "execution_count": 525,
   "metadata": {},
   "outputs": [
    {
     "data": {
      "text/plain": [
       "(28400, 15)"
      ]
     },
     "execution_count": 525,
     "metadata": {},
     "output_type": "execute_result"
    }
   ],
   "source": [
    "medals_after_1960.shape"
   ]
  },
  {
   "cell_type": "code",
   "execution_count": 526,
   "metadata": {},
   "outputs": [],
   "source": [
    "## Removing the rows corresponding to winter games\n",
    "medals_after_1960.drop(medals_after_1960[medals_after_1960['Games'].str.contains('Winter')].index, inplace = True)"
   ]
  },
  {
   "cell_type": "code",
   "execution_count": 527,
   "metadata": {},
   "outputs": [
    {
     "data": {
      "text/plain": [
       "(23545, 15)"
      ]
     },
     "execution_count": 527,
     "metadata": {},
     "output_type": "execute_result"
    }
   ],
   "source": [
    "medals_after_1960.shape"
   ]
  },
  {
   "cell_type": "markdown",
   "metadata": {},
   "source": [
    "### Lets do some Visualization"
   ]
  },
  {
   "cell_type": "code",
   "execution_count": null,
   "metadata": {},
   "outputs": [],
   "source": []
  },
  {
   "cell_type": "code",
   "execution_count": 528,
   "metadata": {},
   "outputs": [],
   "source": [
    "## This will account for team events getting multiple medals. By taking the unique color of the medal for an event, \n",
    "## tackle this issue\n",
    "medal_list = medals_after_1960.groupby(['Year','Team','Event'])['Medal'].nunique().reset_index()"
   ]
  },
  {
   "cell_type": "code",
   "execution_count": 529,
   "metadata": {},
   "outputs": [],
   "source": [
    "## Testing for United States for a particular event and it turns out fine. The multiple values for an event for \n",
    "## a team in a year happens only when multiple colors are won\n",
    "\n",
    "#medals_after_1960.loc[(medals_after_1960['Team']=='United States')&(medals_after_1960['Event']==\"Athletics Men's 110 metres Hurdles\")&(medals_after_1960['Year']==1960)]"
   ]
  },
  {
   "cell_type": "code",
   "execution_count": 530,
   "metadata": {},
   "outputs": [],
   "source": [
    "## Now finding the total count of medals won by a country in a year (considering team event mmedsals as one medal)\n",
    "## this can be done by finding the count of the medals in a year for a team - can go group by\n",
    "medal_list_year_total = medal_list.groupby(['Year','Team']).sum().reset_index()"
   ]
  },
  {
   "cell_type": "code",
   "execution_count": 531,
   "metadata": {},
   "outputs": [],
   "source": [
    "medal_list_total = medal_list_year_total.groupby(['Team'])['Medal'].sum().reset_index()"
   ]
  },
  {
   "cell_type": "code",
   "execution_count": 532,
   "metadata": {},
   "outputs": [],
   "source": [
    "medal_list_total.sort_values(by = 'Medal', inplace = True)"
   ]
  },
  {
   "cell_type": "code",
   "execution_count": 533,
   "metadata": {},
   "outputs": [
    {
     "data": {
      "image/png": "[encoded data removed]",
      "text/plain": [
       "<Figure size 432x288 with 1 Axes>"
      ]
     },
     "metadata": {
      "needs_background": "light"
     },
     "output_type": "display_data"
    }
   ],
   "source": [
    "plt.bar(medal_list_total.iloc[-5:,0], medal_list_total.iloc[-5:,1])\n",
    "plt.xlabel(\"Countries\")\n",
    "plt.ylabel(\"Total Medals won\")\n",
    "plt.title(\"Top 5 countries based on total medals won\")\n",
    "plt.show()"
   ]
  },
  {
   "cell_type": "code",
   "execution_count": 536,
   "metadata": {},
   "outputs": [
    {
     "data": {
      "image/png": "[encoded data removed]",
      "text/plain": [
       "<Figure size 936x1224 with 1 Axes>"
      ]
     },
     "metadata": {
      "needs_background": "light"
     },
     "output_type": "display_data"
    }
   ],
   "source": [
    "plt.figure(figsize=(13,17))\n",
    "plt.barh(medal_list_total.iloc[:,0], medal_list_total.iloc[:,1])\n",
    "plt.tight_layout()\n",
    "plt.show()"
   ]
  },
  {
   "cell_type": "code",
   "execution_count": 535,
   "metadata": {},
   "outputs": [
    {
     "data": {
      "text/html": [
       "<div>\n",
       "<style scoped>\n",
       "    .dataframe tbody tr th:only-of-type {\n",
       "        vertical-align: middle;\n",
       "    }\n",
       "\n",
       "    .dataframe tbody tr th {\n",
       "        vertical-align: top;\n",
       "    }\n",
       "\n",
       "    .dataframe thead th {\n",
       "        text-align: right;\n",
       "    }\n",
       "</style>\n",
       "<table border=\"1\" class=\"dataframe\">\n",
       "  <thead>\n",
       "    <tr style=\"text-align: right;\">\n",
       "      <th></th>\n",
       "      <th>Team</th>\n",
       "      <th>Medal</th>\n",
       "    </tr>\n",
       "  </thead>\n",
       "  <tbody>\n",
       "    <tr>\n",
       "      <th>41</th>\n",
       "      <td>Germany</td>\n",
       "      <td>468</td>\n",
       "    </tr>\n",
       "    <tr>\n",
       "      <th>20</th>\n",
       "      <td>China</td>\n",
       "      <td>542</td>\n",
       "    </tr>\n",
       "    <tr>\n",
       "      <th>85</th>\n",
       "      <td>Others</td>\n",
       "      <td>771</td>\n",
       "    </tr>\n",
       "    <tr>\n",
       "      <th>96</th>\n",
       "      <td>Russia</td>\n",
       "      <td>1288</td>\n",
       "    </tr>\n",
       "    <tr>\n",
       "      <th>124</th>\n",
       "      <td>United States</td>\n",
       "      <td>1453</td>\n",
       "    </tr>\n",
       "  </tbody>\n",
       "</table>\n",
       "</div>"
      ],
      "text/plain": [
       "              Team  Medal\n",
       "41         Germany    468\n",
       "20           China    542\n",
       "85          Others    771\n",
       "96          Russia   1288\n",
       "124  United States   1453"
      ]
     },
     "execution_count": 535,
     "metadata": {},
     "output_type": "execute_result"
    }
   ],
   "source": [
    "medal_list_total.tail(5)"
   ]
  },
  {
   "cell_type": "code",
   "execution_count": null,
   "metadata": {},
   "outputs": [],
   "source": []
  }
 ],
 "metadata": {
  "kernelspec": {
   "display_name": "Python 3",
   "language": "python",
   "name": "python3"
  },
  "language_info": {
   "codemirror_mode": {
    "name": "ipython",
    "version": 3
   },
   "file_extension": ".py",
   "mimetype": "text/x-python",
   "name": "python",
   "nbconvert_exporter": "python",
   "pygments_lexer": "ipython3",
   "version": "3.7.1"
  }
 },
 "nbformat": 4,
 "nbformat_minor": 2
}
